{
 "cells": [
  {
   "cell_type": "code",
   "execution_count": 1,
   "metadata": {},
   "outputs": [],
   "source": [
    "'''\n",
    "Copyright (c) Microsoft Corporation. All rights reserved.\n",
    "Licensed under the MIT License.\n",
    "'''\n",
    "### Run the following command to install required packages:\n",
    "#! pip install -r requirements.txt"
   ]
  },
  {
   "cell_type": "code",
   "execution_count": 2,
   "metadata": {},
   "outputs": [
    {
     "name": "stderr",
     "output_type": "stream",
     "text": [
      "Using TensorFlow backend.\n"
     ]
    }
   ],
   "source": [
    "import cv2\n",
    "import glob\n",
    "import numpy as np\n",
    "import os\n",
    "import pandas as pd\n",
    "from collections import Counter\n",
    "\n",
    "from sklearn.model_selection import train_test_split\n",
    "\n",
    "import matplotlib.pyplot as plt\n",
    "from matplotlib import image\n",
    "%matplotlib inline\n",
    "from pylab import *\n",
    "from keras.models import Sequential\n",
    "from keras.optimizers import Adam, SGD, Adamax\n",
    "from keras.layers import Conv2D, ZeroPadding2D, Activation, Input, concatenate, Dropout\n",
    "from keras.models import Model\n",
    "from scipy import spatial\n",
    "\n",
    "from keras.layers.normalization import BatchNormalization\n",
    "from keras.layers.pooling import MaxPooling2D\n",
    "from keras.layers.merge import Concatenate\n",
    "from keras.layers.core import Lambda, Flatten, Dense\n",
    "from keras.initializers import glorot_uniform,he_uniform\n",
    "\n",
    "from sklearn.manifold import TSNE\n",
    "import seaborn as sns\n",
    "\n",
    "import matplotlib.pyplot as plt\n",
    "\n",
    "from keras.engine.topology import Layer\n",
    "from keras.regularizers import l2\n",
    "from keras import backend as K\n",
    "from keras.utils import plot_model,normalize\n",
    "\n",
    "from sklearn.metrics import roc_curve,roc_auc_score"
   ]
  },
  {
   "cell_type": "code",
   "execution_count": 3,
   "metadata": {},
   "outputs": [],
   "source": [
    "current_dir = \"./blue_whales/\"\n",
    "\n",
    "data_dir = current_dir + \"data/\"\n",
    "labeled_data_dir = data_dir + 'labeled_data/'\n",
    "spectrogram_dir = data_dir + \"extracted_spectrogram/\""
   ]
  },
  {
   "cell_type": "code",
   "execution_count": null,
   "metadata": {},
   "outputs": [],
   "source": [
    "label_list = glob.glob(labeled_data_dir + '*.csv')\n",
    "label_list"
   ]
  },
  {
   "cell_type": "code",
   "execution_count": 5,
   "metadata": {},
   "outputs": [
    {
     "data": {
      "text/html": [
       "<div>\n",
       "<style scoped>\n",
       "    .dataframe tbody tr th:only-of-type {\n",
       "        vertical-align: middle;\n",
       "    }\n",
       "\n",
       "    .dataframe tbody tr th {\n",
       "        vertical-align: top;\n",
       "    }\n",
       "\n",
       "    .dataframe thead th {\n",
       "        text-align: right;\n",
       "    }\n",
       "</style>\n",
       "<table border=\"1\" class=\"dataframe\">\n",
       "  <thead>\n",
       "    <tr style=\"text-align: right;\">\n",
       "      <th></th>\n",
       "      <th>Begin Time (s)</th>\n",
       "      <th>End Time (s)</th>\n",
       "      <th>Low Freq (Hz)</th>\n",
       "      <th>High Freq (Hz)</th>\n",
       "      <th>Site</th>\n",
       "      <th>Audio_filename</th>\n",
       "      <th>Species</th>\n",
       "    </tr>\n",
       "  </thead>\n",
       "  <tbody>\n",
       "    <tr>\n",
       "      <th>0</th>\n",
       "      <td>36.429460</td>\n",
       "      <td>49.757312</td>\n",
       "      <td>17.2</td>\n",
       "      <td>26.7</td>\n",
       "      <td>SWAMS2015</td>\n",
       "      <td>1023.wav</td>\n",
       "      <td>ANT</td>\n",
       "    </tr>\n",
       "    <tr>\n",
       "      <th>1</th>\n",
       "      <td>99.896669</td>\n",
       "      <td>111.834007</td>\n",
       "      <td>17.0</td>\n",
       "      <td>26.3</td>\n",
       "      <td>SWAMS2015</td>\n",
       "      <td>1023.wav</td>\n",
       "      <td>ANT</td>\n",
       "    </tr>\n",
       "    <tr>\n",
       "      <th>2</th>\n",
       "      <td>163.353043</td>\n",
       "      <td>174.033819</td>\n",
       "      <td>17.9</td>\n",
       "      <td>27.1</td>\n",
       "      <td>SWAMS2015</td>\n",
       "      <td>1023.wav</td>\n",
       "      <td>ANT</td>\n",
       "    </tr>\n",
       "    <tr>\n",
       "      <th>3</th>\n",
       "      <td>228.065980</td>\n",
       "      <td>238.746755</td>\n",
       "      <td>18.5</td>\n",
       "      <td>27.6</td>\n",
       "      <td>SWAMS2015</td>\n",
       "      <td>1023.wav</td>\n",
       "      <td>ANT</td>\n",
       "    </tr>\n",
       "    <tr>\n",
       "      <th>4</th>\n",
       "      <td>292.778916</td>\n",
       "      <td>309.742501</td>\n",
       "      <td>17.4</td>\n",
       "      <td>26.9</td>\n",
       "      <td>SWAMS2015</td>\n",
       "      <td>1023.wav</td>\n",
       "      <td>ANT</td>\n",
       "    </tr>\n",
       "  </tbody>\n",
       "</table>\n",
       "</div>"
      ],
      "text/plain": [
       "   Begin Time (s)  End Time (s)  Low Freq (Hz)  High Freq (Hz)       Site  \\\n",
       "0       36.429460     49.757312           17.2            26.7  SWAMS2015   \n",
       "1       99.896669    111.834007           17.0            26.3  SWAMS2015   \n",
       "2      163.353043    174.033819           17.9            27.1  SWAMS2015   \n",
       "3      228.065980    238.746755           18.5            27.6  SWAMS2015   \n",
       "4      292.778916    309.742501           17.4            26.9  SWAMS2015   \n",
       "\n",
       "  Audio_filename Species  \n",
       "0       1023.wav     ANT  \n",
       "1       1023.wav     ANT  \n",
       "2       1023.wav     ANT  \n",
       "3       1023.wav     ANT  \n",
       "4       1023.wav     ANT  "
      ]
     },
     "execution_count": 5,
     "metadata": {},
     "output_type": "execute_result"
    }
   ],
   "source": [
    "ANT_calls = pd.read_csv(labeled_data_dir + 'ANT_calls.csv')\n",
    "AUS_calls = pd.read_csv(labeled_data_dir + 'AUS_calls.csv')\n",
    "MAD_calls = pd.read_csv(labeled_data_dir + 'MAD_calls.csv')\n",
    "SRI_calls = pd.read_csv(labeled_data_dir + 'SRI_calls.csv')\n",
    "\n",
    "all_calls = [ANT_calls, AUS_calls, MAD_calls, SRI_calls]\n",
    "all_calls = pd.concat(all_calls).reset_index(drop=True)\n",
    "all_calls.head()"
   ]
  },
  {
   "cell_type": "code",
   "execution_count": 7,
   "metadata": {},
   "outputs": [
    {
     "data": {
      "text/plain": [
       "6279"
      ]
     },
     "execution_count": 7,
     "metadata": {},
     "output_type": "execute_result"
    }
   ],
   "source": [
    "positive_spectrogram_filenames = glob.glob(spectrogram_dir + '*_Positive_*')\n",
    "len(positive_spectrogram_filenames)"
   ]
  },
  {
   "cell_type": "code",
   "execution_count": 8,
   "metadata": {},
   "outputs": [],
   "source": [
    "spectrogram_with_bounding_box_axis = pd.DataFrame(columns=['FileName', 'XMin', 'XMax', 'YMin', 'YMax', 'ClassName'])\n",
    "\n",
    "spectrogram_length_seconds = 240\n",
    "spectrogram_frequency = 120\n",
    "\n",
    "for i in range(len(positive_spectrogram_filenames)):\n",
    "    img_name = positive_spectrogram_filenames[i].split('/')[-1]\n",
    "    species_name = img_name.split('_')[0]\n",
    "    audio_filename = img_name.split('_')[2] + '.wav'\n",
    "    start_second = int(img_name.split('_')[3]) \n",
    "    end_second = int(img_name.split('_')[4].split('.')[0])\n",
    "    tmp_df = all_calls[(all_calls['Species'] == species_name) & \n",
    "                       (all_calls['Audio_filename'] == audio_filename) &\n",
    "                       (all_calls['Begin Time (s)'] >= start_second) & \n",
    "                       (all_calls['End Time (s)'] <= end_second)\n",
    "                      ]\n",
    "    for index, row in tmp_df.iterrows():\n",
    "        spectrogram_with_bounding_box_axis = spectrogram_with_bounding_box_axis.append({'FileName': positive_spectrogram_filenames[i], \n",
    "                                                                                        'XMin': (row['Begin Time (s)'] - start_second) / spectrogram_length_seconds, \n",
    "                                                                                        'XMax': (row['End Time (s)'] - start_second) / spectrogram_length_seconds, \n",
    "                                                                                        'YMin': 1 - row['High Freq (Hz)'] / spectrogram_frequency, \n",
    "                                                                                        'YMax': 1 - row['Low Freq (Hz)'] / spectrogram_frequency, \n",
    "                                                                                        'ClassName': species_name},\n",
    "                                                                                        ignore_index=True)\n",
    "            "
   ]
  },
  {
   "cell_type": "code",
   "execution_count": 9,
   "metadata": {},
   "outputs": [
    {
     "name": "stdout",
     "output_type": "stream",
     "text": [
      "shape of bounding box data:  (16258, 6)\n"
     ]
    },
    {
     "data": {
      "text/html": [
       "<div>\n",
       "<style scoped>\n",
       "    .dataframe tbody tr th:only-of-type {\n",
       "        vertical-align: middle;\n",
       "    }\n",
       "\n",
       "    .dataframe tbody tr th {\n",
       "        vertical-align: top;\n",
       "    }\n",
       "\n",
       "    .dataframe thead th {\n",
       "        text-align: right;\n",
       "    }\n",
       "</style>\n",
       "<table border=\"1\" class=\"dataframe\">\n",
       "  <thead>\n",
       "    <tr style=\"text-align: right;\">\n",
       "      <th></th>\n",
       "      <th>FileName</th>\n",
       "      <th>XMin</th>\n",
       "      <th>XMax</th>\n",
       "      <th>YMin</th>\n",
       "      <th>YMax</th>\n",
       "      <th>ClassName</th>\n",
       "    </tr>\n",
       "  </thead>\n",
       "  <tbody>\n",
       "    <tr>\n",
       "      <th>0</th>\n",
       "      <td>/mnt/blue-whales/Data/Extracted_Spectrogram/AN...</td>\n",
       "      <td>0.042812</td>\n",
       "      <td>0.108202</td>\n",
       "      <td>0.760000</td>\n",
       "      <td>0.796667</td>\n",
       "      <td>ANT</td>\n",
       "    </tr>\n",
       "    <tr>\n",
       "      <th>1</th>\n",
       "      <td>/mnt/blue-whales/Data/Extracted_Spectrogram/AN...</td>\n",
       "      <td>0.371628</td>\n",
       "      <td>0.405257</td>\n",
       "      <td>0.760000</td>\n",
       "      <td>0.796667</td>\n",
       "      <td>ANT</td>\n",
       "    </tr>\n",
       "    <tr>\n",
       "      <th>2</th>\n",
       "      <td>/mnt/blue-whales/Data/Extracted_Spectrogram/AN...</td>\n",
       "      <td>0.054962</td>\n",
       "      <td>0.088590</td>\n",
       "      <td>0.760000</td>\n",
       "      <td>0.796667</td>\n",
       "      <td>ANT</td>\n",
       "    </tr>\n",
       "    <tr>\n",
       "      <th>3</th>\n",
       "      <td>/mnt/blue-whales/Data/Extracted_Spectrogram/AN...</td>\n",
       "      <td>0.004794</td>\n",
       "      <td>0.057828</td>\n",
       "      <td>0.791667</td>\n",
       "      <td>0.815833</td>\n",
       "      <td>ANT</td>\n",
       "    </tr>\n",
       "    <tr>\n",
       "      <th>4</th>\n",
       "      <td>/mnt/blue-whales/Data/Extracted_Spectrogram/AN...</td>\n",
       "      <td>0.098821</td>\n",
       "      <td>0.132316</td>\n",
       "      <td>0.773333</td>\n",
       "      <td>0.810833</td>\n",
       "      <td>ANT</td>\n",
       "    </tr>\n",
       "    <tr>\n",
       "      <th>5</th>\n",
       "      <td>/mnt/blue-whales/Data/Extracted_Spectrogram/AN...</td>\n",
       "      <td>0.000093</td>\n",
       "      <td>0.076693</td>\n",
       "      <td>0.792500</td>\n",
       "      <td>0.825000</td>\n",
       "      <td>ANT</td>\n",
       "    </tr>\n",
       "    <tr>\n",
       "      <th>6</th>\n",
       "      <td>/mnt/blue-whales/Data/Extracted_Spectrogram/AN...</td>\n",
       "      <td>0.450322</td>\n",
       "      <td>0.520103</td>\n",
       "      <td>0.791667</td>\n",
       "      <td>0.824167</td>\n",
       "      <td>ANT</td>\n",
       "    </tr>\n",
       "    <tr>\n",
       "      <th>7</th>\n",
       "      <td>/mnt/blue-whales/Data/Extracted_Spectrogram/AN...</td>\n",
       "      <td>0.113094</td>\n",
       "      <td>0.161669</td>\n",
       "      <td>0.772500</td>\n",
       "      <td>0.801667</td>\n",
       "      <td>ANT</td>\n",
       "    </tr>\n",
       "    <tr>\n",
       "      <th>8</th>\n",
       "      <td>/mnt/blue-whales/Data/Extracted_Spectrogram/AN...</td>\n",
       "      <td>0.449383</td>\n",
       "      <td>0.512904</td>\n",
       "      <td>0.779167</td>\n",
       "      <td>0.811667</td>\n",
       "      <td>ANT</td>\n",
       "    </tr>\n",
       "    <tr>\n",
       "      <th>9</th>\n",
       "      <td>/mnt/blue-whales/Data/Extracted_Spectrogram/AN...</td>\n",
       "      <td>0.573826</td>\n",
       "      <td>0.598947</td>\n",
       "      <td>0.767500</td>\n",
       "      <td>0.795000</td>\n",
       "      <td>ANT</td>\n",
       "    </tr>\n",
       "    <tr>\n",
       "      <th>10</th>\n",
       "      <td>/mnt/blue-whales/Data/Extracted_Spectrogram/AN...</td>\n",
       "      <td>0.016988</td>\n",
       "      <td>0.086769</td>\n",
       "      <td>0.791667</td>\n",
       "      <td>0.824167</td>\n",
       "      <td>ANT</td>\n",
       "    </tr>\n",
       "    <tr>\n",
       "      <th>11</th>\n",
       "      <td>/mnt/blue-whales/Data/Extracted_Spectrogram/AN...</td>\n",
       "      <td>0.003550</td>\n",
       "      <td>0.067071</td>\n",
       "      <td>0.779167</td>\n",
       "      <td>0.811667</td>\n",
       "      <td>ANT</td>\n",
       "    </tr>\n",
       "    <tr>\n",
       "      <th>12</th>\n",
       "      <td>/mnt/blue-whales/Data/Extracted_Spectrogram/AN...</td>\n",
       "      <td>0.127993</td>\n",
       "      <td>0.153114</td>\n",
       "      <td>0.767500</td>\n",
       "      <td>0.795000</td>\n",
       "      <td>ANT</td>\n",
       "    </tr>\n",
       "    <tr>\n",
       "      <th>13</th>\n",
       "      <td>/mnt/blue-whales/Data/Extracted_Spectrogram/AN...</td>\n",
       "      <td>0.803170</td>\n",
       "      <td>0.868051</td>\n",
       "      <td>0.775000</td>\n",
       "      <td>0.804167</td>\n",
       "      <td>ANT</td>\n",
       "    </tr>\n",
       "    <tr>\n",
       "      <th>14</th>\n",
       "      <td>/mnt/blue-whales/Data/Extracted_Spectrogram/AN...</td>\n",
       "      <td>0.052993</td>\n",
       "      <td>0.078114</td>\n",
       "      <td>0.767500</td>\n",
       "      <td>0.795000</td>\n",
       "      <td>ANT</td>\n",
       "    </tr>\n",
       "    <tr>\n",
       "      <th>15</th>\n",
       "      <td>/mnt/blue-whales/Data/Extracted_Spectrogram/AN...</td>\n",
       "      <td>0.728170</td>\n",
       "      <td>0.793051</td>\n",
       "      <td>0.775000</td>\n",
       "      <td>0.804167</td>\n",
       "      <td>ANT</td>\n",
       "    </tr>\n",
       "    <tr>\n",
       "      <th>16</th>\n",
       "      <td>/mnt/blue-whales/Data/Extracted_Spectrogram/AN...</td>\n",
       "      <td>0.057337</td>\n",
       "      <td>0.122218</td>\n",
       "      <td>0.775000</td>\n",
       "      <td>0.804167</td>\n",
       "      <td>ANT</td>\n",
       "    </tr>\n",
       "    <tr>\n",
       "      <th>17</th>\n",
       "      <td>/mnt/blue-whales/Data/Extracted_Spectrogram/AN...</td>\n",
       "      <td>0.108356</td>\n",
       "      <td>0.127894</td>\n",
       "      <td>0.802500</td>\n",
       "      <td>0.815833</td>\n",
       "      <td>ANT</td>\n",
       "    </tr>\n",
       "    <tr>\n",
       "      <th>18</th>\n",
       "      <td>/mnt/blue-whales/Data/Extracted_Spectrogram/AN...</td>\n",
       "      <td>0.066553</td>\n",
       "      <td>0.150290</td>\n",
       "      <td>0.773333</td>\n",
       "      <td>0.808333</td>\n",
       "      <td>ANT</td>\n",
       "    </tr>\n",
       "    <tr>\n",
       "      <th>19</th>\n",
       "      <td>/mnt/blue-whales/Data/Extracted_Spectrogram/AN...</td>\n",
       "      <td>0.521524</td>\n",
       "      <td>0.577349</td>\n",
       "      <td>0.770000</td>\n",
       "      <td>0.800000</td>\n",
       "      <td>ANT</td>\n",
       "    </tr>\n",
       "  </tbody>\n",
       "</table>\n",
       "</div>"
      ],
      "text/plain": [
       "                                             FileName      XMin      XMax  \\\n",
       "0   /mnt/blue-whales/Data/Extracted_Spectrogram/AN...  0.042812  0.108202   \n",
       "1   /mnt/blue-whales/Data/Extracted_Spectrogram/AN...  0.371628  0.405257   \n",
       "2   /mnt/blue-whales/Data/Extracted_Spectrogram/AN...  0.054962  0.088590   \n",
       "3   /mnt/blue-whales/Data/Extracted_Spectrogram/AN...  0.004794  0.057828   \n",
       "4   /mnt/blue-whales/Data/Extracted_Spectrogram/AN...  0.098821  0.132316   \n",
       "5   /mnt/blue-whales/Data/Extracted_Spectrogram/AN...  0.000093  0.076693   \n",
       "6   /mnt/blue-whales/Data/Extracted_Spectrogram/AN...  0.450322  0.520103   \n",
       "7   /mnt/blue-whales/Data/Extracted_Spectrogram/AN...  0.113094  0.161669   \n",
       "8   /mnt/blue-whales/Data/Extracted_Spectrogram/AN...  0.449383  0.512904   \n",
       "9   /mnt/blue-whales/Data/Extracted_Spectrogram/AN...  0.573826  0.598947   \n",
       "10  /mnt/blue-whales/Data/Extracted_Spectrogram/AN...  0.016988  0.086769   \n",
       "11  /mnt/blue-whales/Data/Extracted_Spectrogram/AN...  0.003550  0.067071   \n",
       "12  /mnt/blue-whales/Data/Extracted_Spectrogram/AN...  0.127993  0.153114   \n",
       "13  /mnt/blue-whales/Data/Extracted_Spectrogram/AN...  0.803170  0.868051   \n",
       "14  /mnt/blue-whales/Data/Extracted_Spectrogram/AN...  0.052993  0.078114   \n",
       "15  /mnt/blue-whales/Data/Extracted_Spectrogram/AN...  0.728170  0.793051   \n",
       "16  /mnt/blue-whales/Data/Extracted_Spectrogram/AN...  0.057337  0.122218   \n",
       "17  /mnt/blue-whales/Data/Extracted_Spectrogram/AN...  0.108356  0.127894   \n",
       "18  /mnt/blue-whales/Data/Extracted_Spectrogram/AN...  0.066553  0.150290   \n",
       "19  /mnt/blue-whales/Data/Extracted_Spectrogram/AN...  0.521524  0.577349   \n",
       "\n",
       "        YMin      YMax ClassName  \n",
       "0   0.760000  0.796667       ANT  \n",
       "1   0.760000  0.796667       ANT  \n",
       "2   0.760000  0.796667       ANT  \n",
       "3   0.791667  0.815833       ANT  \n",
       "4   0.773333  0.810833       ANT  \n",
       "5   0.792500  0.825000       ANT  \n",
       "6   0.791667  0.824167       ANT  \n",
       "7   0.772500  0.801667       ANT  \n",
       "8   0.779167  0.811667       ANT  \n",
       "9   0.767500  0.795000       ANT  \n",
       "10  0.791667  0.824167       ANT  \n",
       "11  0.779167  0.811667       ANT  \n",
       "12  0.767500  0.795000       ANT  \n",
       "13  0.775000  0.804167       ANT  \n",
       "14  0.767500  0.795000       ANT  \n",
       "15  0.775000  0.804167       ANT  \n",
       "16  0.775000  0.804167       ANT  \n",
       "17  0.802500  0.815833       ANT  \n",
       "18  0.773333  0.808333       ANT  \n",
       "19  0.770000  0.800000       ANT  "
      ]
     },
     "execution_count": 9,
     "metadata": {},
     "output_type": "execute_result"
    }
   ],
   "source": [
    "print('shape of bounding box data: ', spectrogram_with_bounding_box_axis.shape)\n",
    "spectrogram_with_bounding_box_axis.head(20)"
   ]
  },
  {
   "cell_type": "code",
   "execution_count": 10,
   "metadata": {},
   "outputs": [
    {
     "name": "stdout",
     "output_type": "stream",
     "text": [
      "shape of spectrogram_positive_call_counts data:  (6274, 3)\n"
     ]
    },
    {
     "data": {
      "text/html": [
       "<div>\n",
       "<style scoped>\n",
       "    .dataframe tbody tr th:only-of-type {\n",
       "        vertical-align: middle;\n",
       "    }\n",
       "\n",
       "    .dataframe tbody tr th {\n",
       "        vertical-align: top;\n",
       "    }\n",
       "\n",
       "    .dataframe thead th {\n",
       "        text-align: right;\n",
       "    }\n",
       "</style>\n",
       "<table border=\"1\" class=\"dataframe\">\n",
       "  <thead>\n",
       "    <tr style=\"text-align: right;\">\n",
       "      <th></th>\n",
       "      <th>FileName</th>\n",
       "      <th>ClassName</th>\n",
       "      <th>CallCounts</th>\n",
       "    </tr>\n",
       "  </thead>\n",
       "  <tbody>\n",
       "    <tr>\n",
       "      <th>0</th>\n",
       "      <td>/mnt/blue-whales/Data/Extracted_Spectrogram/AN...</td>\n",
       "      <td>ANT</td>\n",
       "      <td>2</td>\n",
       "    </tr>\n",
       "    <tr>\n",
       "      <th>1</th>\n",
       "      <td>/mnt/blue-whales/Data/Extracted_Spectrogram/AN...</td>\n",
       "      <td>ANT</td>\n",
       "      <td>1</td>\n",
       "    </tr>\n",
       "    <tr>\n",
       "      <th>2</th>\n",
       "      <td>/mnt/blue-whales/Data/Extracted_Spectrogram/AN...</td>\n",
       "      <td>ANT</td>\n",
       "      <td>1</td>\n",
       "    </tr>\n",
       "    <tr>\n",
       "      <th>3</th>\n",
       "      <td>/mnt/blue-whales/Data/Extracted_Spectrogram/AN...</td>\n",
       "      <td>ANT</td>\n",
       "      <td>1</td>\n",
       "    </tr>\n",
       "    <tr>\n",
       "      <th>4</th>\n",
       "      <td>/mnt/blue-whales/Data/Extracted_Spectrogram/AN...</td>\n",
       "      <td>ANT</td>\n",
       "      <td>2</td>\n",
       "    </tr>\n",
       "  </tbody>\n",
       "</table>\n",
       "</div>"
      ],
      "text/plain": [
       "                                            FileName ClassName  CallCounts\n",
       "0  /mnt/blue-whales/Data/Extracted_Spectrogram/AN...       ANT           2\n",
       "1  /mnt/blue-whales/Data/Extracted_Spectrogram/AN...       ANT           1\n",
       "2  /mnt/blue-whales/Data/Extracted_Spectrogram/AN...       ANT           1\n",
       "3  /mnt/blue-whales/Data/Extracted_Spectrogram/AN...       ANT           1\n",
       "4  /mnt/blue-whales/Data/Extracted_Spectrogram/AN...       ANT           2"
      ]
     },
     "execution_count": 10,
     "metadata": {},
     "output_type": "execute_result"
    }
   ],
   "source": [
    "spectrogram_positive_call_counts = spectrogram_with_bounding_box_axis[['FileName', 'ClassName']].groupby(['FileName', 'ClassName']).size().reset_index(name='CallCounts')\n",
    "print('shape of spectrogram_positive_call_counts data: ', spectrogram_positive_call_counts.shape)\n",
    "spectrogram_positive_call_counts.head()"
   ]
  },
  {
   "cell_type": "code",
   "execution_count": 11,
   "metadata": {},
   "outputs": [
    {
     "data": {
      "text/plain": [
       "Counter({2: 2350,\n",
       "         1: 1132,\n",
       "         3: 1350,\n",
       "         4: 1052,\n",
       "         5: 267,\n",
       "         6: 66,\n",
       "         7: 34,\n",
       "         8: 9,\n",
       "         9: 13,\n",
       "         10: 1})"
      ]
     },
     "execution_count": 11,
     "metadata": {},
     "output_type": "execute_result"
    }
   ],
   "source": [
    "Counter(spectrogram_positive_call_counts['CallCounts'])"
   ]
  },
  {
   "cell_type": "markdown",
   "metadata": {},
   "source": [
    "SRI"
   ]
  },
  {
   "cell_type": "code",
   "execution_count": 12,
   "metadata": {},
   "outputs": [
    {
     "name": "stdout",
     "output_type": "stream",
     "text": [
      "shape of spectrogram_call_counts_SRI data:  (659, 4)\n"
     ]
    },
    {
     "data": {
      "text/html": [
       "<div>\n",
       "<style scoped>\n",
       "    .dataframe tbody tr th:only-of-type {\n",
       "        vertical-align: middle;\n",
       "    }\n",
       "\n",
       "    .dataframe tbody tr th {\n",
       "        vertical-align: top;\n",
       "    }\n",
       "\n",
       "    .dataframe thead th {\n",
       "        text-align: right;\n",
       "    }\n",
       "</style>\n",
       "<table border=\"1\" class=\"dataframe\">\n",
       "  <thead>\n",
       "    <tr style=\"text-align: right;\">\n",
       "      <th></th>\n",
       "      <th>FileName</th>\n",
       "      <th>ClassName</th>\n",
       "      <th>CallCounts</th>\n",
       "      <th>CallCounts_Group</th>\n",
       "    </tr>\n",
       "  </thead>\n",
       "  <tbody>\n",
       "    <tr>\n",
       "      <th>0</th>\n",
       "      <td>/mnt/blue-whales/Data/Extracted_Spectrogram/SR...</td>\n",
       "      <td>SRI</td>\n",
       "      <td>1</td>\n",
       "      <td>1</td>\n",
       "    </tr>\n",
       "    <tr>\n",
       "      <th>1</th>\n",
       "      <td>/mnt/blue-whales/Data/Extracted_Spectrogram/SR...</td>\n",
       "      <td>SRI</td>\n",
       "      <td>1</td>\n",
       "      <td>1</td>\n",
       "    </tr>\n",
       "    <tr>\n",
       "      <th>2</th>\n",
       "      <td>/mnt/blue-whales/Data/Extracted_Spectrogram/SR...</td>\n",
       "      <td>SRI</td>\n",
       "      <td>1</td>\n",
       "      <td>1</td>\n",
       "    </tr>\n",
       "    <tr>\n",
       "      <th>3</th>\n",
       "      <td>/mnt/blue-whales/Data/Extracted_Spectrogram/SR...</td>\n",
       "      <td>SRI</td>\n",
       "      <td>1</td>\n",
       "      <td>1</td>\n",
       "    </tr>\n",
       "    <tr>\n",
       "      <th>4</th>\n",
       "      <td>/mnt/blue-whales/Data/Extracted_Spectrogram/SR...</td>\n",
       "      <td>SRI</td>\n",
       "      <td>2</td>\n",
       "      <td>2</td>\n",
       "    </tr>\n",
       "    <tr>\n",
       "      <th>5</th>\n",
       "      <td>/mnt/blue-whales/Data/Extracted_Spectrogram/SR...</td>\n",
       "      <td>SRI</td>\n",
       "      <td>1</td>\n",
       "      <td>1</td>\n",
       "    </tr>\n",
       "    <tr>\n",
       "      <th>6</th>\n",
       "      <td>/mnt/blue-whales/Data/Extracted_Spectrogram/SR...</td>\n",
       "      <td>SRI</td>\n",
       "      <td>2</td>\n",
       "      <td>2</td>\n",
       "    </tr>\n",
       "    <tr>\n",
       "      <th>7</th>\n",
       "      <td>/mnt/blue-whales/Data/Extracted_Spectrogram/SR...</td>\n",
       "      <td>SRI</td>\n",
       "      <td>2</td>\n",
       "      <td>2</td>\n",
       "    </tr>\n",
       "    <tr>\n",
       "      <th>8</th>\n",
       "      <td>/mnt/blue-whales/Data/Extracted_Spectrogram/SR...</td>\n",
       "      <td>SRI</td>\n",
       "      <td>1</td>\n",
       "      <td>1</td>\n",
       "    </tr>\n",
       "    <tr>\n",
       "      <th>9</th>\n",
       "      <td>/mnt/blue-whales/Data/Extracted_Spectrogram/SR...</td>\n",
       "      <td>SRI</td>\n",
       "      <td>2</td>\n",
       "      <td>2</td>\n",
       "    </tr>\n",
       "  </tbody>\n",
       "</table>\n",
       "</div>"
      ],
      "text/plain": [
       "                                            FileName ClassName  CallCounts  \\\n",
       "0  /mnt/blue-whales/Data/Extracted_Spectrogram/SR...       SRI           1   \n",
       "1  /mnt/blue-whales/Data/Extracted_Spectrogram/SR...       SRI           1   \n",
       "2  /mnt/blue-whales/Data/Extracted_Spectrogram/SR...       SRI           1   \n",
       "3  /mnt/blue-whales/Data/Extracted_Spectrogram/SR...       SRI           1   \n",
       "4  /mnt/blue-whales/Data/Extracted_Spectrogram/SR...       SRI           2   \n",
       "5  /mnt/blue-whales/Data/Extracted_Spectrogram/SR...       SRI           1   \n",
       "6  /mnt/blue-whales/Data/Extracted_Spectrogram/SR...       SRI           2   \n",
       "7  /mnt/blue-whales/Data/Extracted_Spectrogram/SR...       SRI           2   \n",
       "8  /mnt/blue-whales/Data/Extracted_Spectrogram/SR...       SRI           1   \n",
       "9  /mnt/blue-whales/Data/Extracted_Spectrogram/SR...       SRI           2   \n",
       "\n",
       "  CallCounts_Group  \n",
       "0                1  \n",
       "1                1  \n",
       "2                1  \n",
       "3                1  \n",
       "4                2  \n",
       "5                1  \n",
       "6                2  \n",
       "7                2  \n",
       "8                1  \n",
       "9                2  "
      ]
     },
     "execution_count": 12,
     "metadata": {},
     "output_type": "execute_result"
    }
   ],
   "source": [
    "spectrogram_call_counts_SRI = spectrogram_positive_call_counts.loc[spectrogram_positive_call_counts.ClassName =='SRI'].reset_index(drop=True)\n",
    "spectrogram_call_counts_SRI['CallCounts_Group'] = ''\n",
    "\n",
    "for i in range(len(spectrogram_call_counts_SRI)):\n",
    "    if spectrogram_call_counts_SRI.at[i, 'CallCounts'] < 5:\n",
    "        spectrogram_call_counts_SRI.at[i, 'CallCounts_Group'] = str(spectrogram_call_counts_SRI.at[i, 'CallCounts'])\n",
    "    else:\n",
    "        spectrogram_call_counts_SRI.at[i, 'CallCounts_Group'] = '5+'\n",
    "\n",
    "print('shape of spectrogram_call_counts_SRI data: ', spectrogram_call_counts_SRI.shape)\n",
    "spectrogram_call_counts_SRI.head(10)"
   ]
  },
  {
   "cell_type": "code",
   "execution_count": null,
   "metadata": {},
   "outputs": [],
   "source": [
    "spectrograms_vector = []\n",
    "nrow, ncol, nchannel = 224, 224, 3\n",
    "input_shape = (nrow, ncol, nchannel)\n",
    "\n",
    "for i in range(len(spectrogram_call_counts_SRI)):\n",
    "    img = cv2.imread(spectrogram_call_counts_SRI['FileName'][i])  \n",
    "    img = cv2.resize(img, (ncol, nrow)) / 255.0\n",
    "    spectrograms_vector.append(img)\n",
    "\n",
    "spectrograms_vector = np.asarray(spectrograms_vector)"
   ]
  },
  {
   "cell_type": "code",
   "execution_count": 15,
   "metadata": {},
   "outputs": [
    {
     "name": "stdout",
     "output_type": "stream",
     "text": [
      "(461, 224, 224, 3)\n",
      "(198, 224, 224, 3)\n"
     ]
    }
   ],
   "source": [
    "x_train, x_test, y_train, y_test, y_train_original, y_test_original, directory_filenames_train, directory_filenames_test = train_test_split(spectrograms_vector, spectrogram_call_counts_SRI.CallCounts_Group.tolist(), spectrogram_call_counts_SRI.CallCounts.tolist(), spectrogram_call_counts_SRI.FileName.tolist(), test_size = 0.3, random_state = 42)\n",
    "\n",
    "print(x_train.shape) \n",
    "print(x_test.shape)   "
   ]
  },
  {
   "cell_type": "code",
   "execution_count": 16,
   "metadata": {},
   "outputs": [
    {
     "name": "stdout",
     "output_type": "stream",
     "text": [
      "['3', '1', '2']\n"
     ]
    }
   ],
   "source": [
    "category_name_list = list(set(y_train))\n",
    "print(category_name_list)"
   ]
  },
  {
   "cell_type": "code",
   "execution_count": 16,
   "metadata": {},
   "outputs": [],
   "source": [
    "def get_image(label):\n",
    "    y = y_train; x = x_train\n",
    "    idx = np.random.randint(len(y))\n",
    "    while y[idx] != label:\n",
    "        idx = np.random.randint(len(y))\n",
    "    return x[idx]\n",
    "    \n",
    "def get_triplet():\n",
    "    anchor_class = np.random.choice(category_name_list)\n",
    "    negative_class = np.random.choice(list(set(category_name_list) - set(anchor_class)))\n",
    "    a, p = get_image(anchor_class), get_image(anchor_class)\n",
    "    n = get_image(negative_class)\n",
    "    return a, p, n\n",
    "\n",
    "def generate_hard_triplets(batch_size = 5, hard_batchs_size = 2):\n",
    "    while True:\n",
    "        list_a_random = []\n",
    "        list_p_random = []\n",
    "        list_n_random = []\n",
    "\n",
    "        for i in range(batch_size):\n",
    "            a, p, n = get_triplet()\n",
    "            list_a_random.append(a)\n",
    "            list_p_random.append(p)\n",
    "            list_n_random.append(n)\n",
    "            \n",
    "        A_random = np.array(list_a_random, dtype='float32')\n",
    "        P_random = np.array(list_p_random, dtype='float32')\n",
    "        N_random = np.array(list_n_random, dtype='float32')\n",
    "        \n",
    "        A_random_embedding = branch_model.predict(A_random)\n",
    "        P_random_embedding = branch_model.predict(P_random)\n",
    "        N_random_embedding = branch_model.predict(N_random)\n",
    "        \n",
    "        studybatchloss = np.sum(np.square(A_random_embedding - P_random_embedding),axis=1) - np.sum(np.square(A_random_embedding - N_random_embedding),axis=1)\n",
    "\n",
    "        hard_examples = np.argsort(studybatchloss)[::-1][:hard_batchs_size]\n",
    "        A_hard = A_random[hard_examples]\n",
    "        P_hard = P_random[hard_examples]\n",
    "        N_hard = N_random[hard_examples]\n",
    "        \n",
    "        list_a_new = []\n",
    "        list_p_new = []\n",
    "        list_n_new = []\n",
    "        \n",
    "        for i in range(batch_size - hard_batchs_size):\n",
    "            a, p, n = get_triplet()\n",
    "            list_a_new.append(a)\n",
    "            list_p_new.append(p)\n",
    "            list_n_new.append(n)\n",
    "            \n",
    "        A_new = np.array(list_a_new, dtype='float32')\n",
    "        P_new = np.array(list_p_new, dtype='float32')\n",
    "        N_new = np.array(list_n_new, dtype='float32')\n",
    "        \n",
    "        A = np.concatenate((A_hard, A_new), axis=0)\n",
    "        P = np.concatenate((P_hard, P_new), axis=0)\n",
    "        N = np.concatenate((N_hard, N_new), axis=0)\n",
    "\n",
    "        label = np.ones(batch_size)\n",
    "        yield [A, P, N], label"
   ]
  },
  {
   "cell_type": "code",
   "execution_count": 17,
   "metadata": {},
   "outputs": [],
   "source": [
    "def identity_loss(y_true, y_pred):\n",
    "    return K.mean(y_pred)\n",
    "\n",
    "def triplet_loss(x, alpha = 0.1):\n",
    "    anchor,positive,negative = x\n",
    "    pos_dist = K.sum(K.square(anchor-positive),axis=1)\n",
    "    neg_dist = K.sum(K.square(anchor-negative),axis=1)\n",
    "    basic_loss = pos_dist-neg_dist+alpha\n",
    "    loss = K.maximum(basic_loss,0.0)\n",
    "    return loss\n",
    "\n",
    "def get_branch_model(inp_shape):\n",
    "    from keras.applications.densenet import DenseNet201\n",
    "    model = DenseNet201(input_shape=inp_shape, include_top=False, weights=None, pooling='max')\n",
    "    return model\n",
    "\n",
    "def head_model(input_shape, branch_model):\n",
    "    input_1 = Input(input_shape)\n",
    "    input_2 = Input(input_shape)\n",
    "    input_3 = Input(input_shape)\n",
    "        \n",
    "    A = branch_model(input_1)\n",
    "    P = branch_model(input_2)\n",
    "    N = branch_model(input_3)\n",
    "   \n",
    "    loss = Lambda(triplet_loss)([A, P, N]) \n",
    "    model = Model(inputs=[input_1, input_2, input_3], outputs=loss)\n",
    "    optimizer = Adam(lr = 0.0001, decay = 10e-6)\n",
    "    model.compile(loss=identity_loss, optimizer=optimizer)\n",
    "    return model"
   ]
  },
  {
   "cell_type": "code",
   "execution_count": 18,
   "metadata": {},
   "outputs": [
    {
     "name": "stdout",
     "output_type": "stream",
     "text": [
      "WARNING:tensorflow:From /opt/conda/lib/python3.7/site-packages/keras/backend/tensorflow_backend.py:74: The name tf.get_default_graph is deprecated. Please use tf.compat.v1.get_default_graph instead.\n",
      "\n",
      "WARNING:tensorflow:From /opt/conda/lib/python3.7/site-packages/keras/backend/tensorflow_backend.py:517: The name tf.placeholder is deprecated. Please use tf.compat.v1.placeholder instead.\n",
      "\n",
      "WARNING:tensorflow:From /opt/conda/lib/python3.7/site-packages/keras/backend/tensorflow_backend.py:4138: The name tf.random_uniform is deprecated. Please use tf.random.uniform instead.\n",
      "\n",
      "WARNING:tensorflow:From /opt/conda/lib/python3.7/site-packages/keras/backend/tensorflow_backend.py:174: The name tf.get_default_session is deprecated. Please use tf.compat.v1.get_default_session instead.\n",
      "\n",
      "WARNING:tensorflow:From /opt/conda/lib/python3.7/site-packages/keras/backend/tensorflow_backend.py:181: The name tf.ConfigProto is deprecated. Please use tf.compat.v1.ConfigProto instead.\n",
      "\n",
      "WARNING:tensorflow:From /opt/conda/lib/python3.7/site-packages/keras/backend/tensorflow_backend.py:1834: The name tf.nn.fused_batch_norm is deprecated. Please use tf.compat.v1.nn.fused_batch_norm instead.\n",
      "\n",
      "WARNING:tensorflow:From /opt/conda/lib/python3.7/site-packages/keras/backend/tensorflow_backend.py:3976: The name tf.nn.max_pool is deprecated. Please use tf.nn.max_pool2d instead.\n",
      "\n",
      "WARNING:tensorflow:From /opt/conda/lib/python3.7/site-packages/keras/backend/tensorflow_backend.py:3980: The name tf.nn.avg_pool is deprecated. Please use tf.nn.avg_pool2d instead.\n",
      "\n",
      "WARNING:tensorflow:From /opt/conda/lib/python3.7/site-packages/keras/optimizers.py:790: The name tf.train.Optimizer is deprecated. Please use tf.compat.v1.train.Optimizer instead.\n",
      "\n",
      "__________________________________________________________________________________________________\n",
      "Layer (type)                    Output Shape         Param #     Connected to                     \n",
      "==================================================================================================\n",
      "input_2 (InputLayer)            (None, 224, 224, 3)  0                                            \n",
      "__________________________________________________________________________________________________\n",
      "input_3 (InputLayer)            (None, 224, 224, 3)  0                                            \n",
      "__________________________________________________________________________________________________\n",
      "input_4 (InputLayer)            (None, 224, 224, 3)  0                                            \n",
      "__________________________________________________________________________________________________\n",
      "densenet201 (Model)             (None, 1920)         18321984    input_2[0][0]                    \n",
      "                                                                 input_3[0][0]                    \n",
      "                                                                 input_4[0][0]                    \n",
      "__________________________________________________________________________________________________\n",
      "lambda_1 (Lambda)               (None,)              0           densenet201[1][0]                \n",
      "                                                                 densenet201[2][0]                \n",
      "                                                                 densenet201[3][0]                \n",
      "==================================================================================================\n",
      "Total params: 18,321,984\n",
      "Trainable params: 18,092,928\n",
      "Non-trainable params: 229,056\n",
      "__________________________________________________________________________________________________\n"
     ]
    }
   ],
   "source": [
    "branch_model = get_branch_model(input_shape)\n",
    "\n",
    "train_generator = generate_hard_triplets()\n",
    "batch = next(train_generator)\n",
    "\n",
    "model = head_model(input_shape, branch_model)\n",
    "model.summary()"
   ]
  },
  {
   "cell_type": "code",
   "execution_count": 19,
   "metadata": {},
   "outputs": [
    {
     "name": "stdout",
     "output_type": "stream",
     "text": [
      "length of vector representation for image: 1920\n",
      "[[0.0106468  0.         0.06135152 ... 0.04731228 0.06161842 0.        ]]\n"
     ]
    }
   ],
   "source": [
    "featured_img = branch_model.predict(np.ones((1,nrow, ncol, nchannel)))\n",
    "print('length of vector representation for image:',len(featured_img[0]))\n",
    "print(featured_img)"
   ]
  },
  {
   "cell_type": "code",
   "execution_count": 20,
   "metadata": {},
   "outputs": [
    {
     "name": "stdout",
     "output_type": "stream",
     "text": [
      "WARNING:tensorflow:From /opt/conda/lib/python3.7/site-packages/tensorflow/python/ops/math_grad.py:1250: add_dispatch_support.<locals>.wrapper (from tensorflow.python.ops.array_ops) is deprecated and will be removed in a future version.\n",
      "Instructions for updating:\n",
      "Use tf.where in 2.0, which has the same broadcast rule as np.where\n",
      "Epoch 1/10\n",
      "20000/20000 [==============================] - 10434s 522ms/step - loss: 1.1508\n",
      "Epoch 2/10\n",
      "20000/20000 [==============================] - 10283s 514ms/step - loss: 0.0041\n",
      "Epoch 3/10\n",
      "20000/20000 [==============================] - 10224s 511ms/step - loss: 7.0449e-04\n",
      "Epoch 4/10\n",
      "20000/20000 [==============================] - 10368s 518ms/step - loss: 3.6811e-04\n",
      "Epoch 5/10\n",
      "20000/20000 [==============================] - 10382s 519ms/step - loss: 1.8247e-04\n",
      "Epoch 6/10\n",
      "20000/20000 [==============================] - 10242s 512ms/step - loss: 1.8193e-04\n",
      "Epoch 7/10\n",
      "20000/20000 [==============================] - 9712s 486ms/step - loss: 9.7699e-05\n",
      "Epoch 8/10\n",
      "20000/20000 [==============================] - 9843s 492ms/step - loss: 9.8345e-05\n",
      "Epoch 9/10\n",
      "20000/20000 [==============================] - 9815s 491ms/step - loss: 2.0347e-05\n",
      "Epoch 10/10\n",
      "20000/20000 [==============================] - 9829s 491ms/step - loss: 0.0000e+00\n"
     ]
    }
   ],
   "source": [
    "history = model.fit_generator(train_generator, \n",
    "                              epochs=10, \n",
    "                              verbose=1,\n",
    "                              steps_per_epoch=20000\n",
    "                             )"
   ]
  },
  {
   "cell_type": "code",
   "execution_count": 21,
   "metadata": {},
   "outputs": [
    {
     "data": {
      "image/png": "[encoded data removed]",
      "text/plain": [
       "<Figure size 432x288 with 1 Axes>"
      ]
     },
     "metadata": {
      "needs_background": "light"
     },
     "output_type": "display_data"
    }
   ],
   "source": [
    "plt.plot(history.history['loss'])\n",
    "plt.title('Training Losses',size = 15)\n",
    "plt.ylabel('loss')\n",
    "plt.xlabel('epoch')\n",
    "plt.legend(['training loss'], loc='upper right')\n",
    "plt.show()"
   ]
  },
  {
   "cell_type": "code",
   "execution_count": 22,
   "metadata": {},
   "outputs": [],
   "source": [
    "x_train_embedding = branch_model.predict(x_train)\n",
    "x_test_embedding = branch_model.predict(x_test)\n",
    "\n",
    "tsne = TSNE(n_components=2, random_state= 5)\n",
    "train_tsne_embeds = tsne.fit_transform(x_train_embedding)\n",
    "test_tsne_embeds = tsne.fit_transform(x_test_embedding)"
   ]
  },
  {
   "cell_type": "code",
   "execution_count": 23,
   "metadata": {},
   "outputs": [
    {
     "data": {
      "image/png": "[encoded data removed]",
      "text/plain": [
       "<Figure size 360x360 with 1 Axes>"
      ]
     },
     "metadata": {
      "needs_background": "light"
     },
     "output_type": "display_data"
    }
   ],
   "source": [
    "scatterDF =  pd.DataFrame(\n",
    "    {'X': train_tsne_embeds[:,0],\n",
    "     'Y': train_tsne_embeds[:,1],\n",
    "     'Label': y_train\n",
    "    })\n",
    "\n",
    "scatter_plot = sns.lmplot(data=scatterDF, x='X', y='Y', hue='Label', fit_reg=False, legend=False)\n",
    "legend = scatter_plot.ax.legend(bbox_to_anchor=[1, 0.75],\n",
    "                         title=\"label\", fancybox=True)\n",
    "\n",
    "for i, text in enumerate(legend.get_texts()):\n",
    "    plt.setp(text,color = 'black')\n"
   ]
  },
  {
   "cell_type": "code",
   "execution_count": 24,
   "metadata": {},
   "outputs": [
    {
     "data": {
      "image/png": "[encoded data removed]",
      "text/plain": [
       "<Figure size 360x360 with 1 Axes>"
      ]
     },
     "metadata": {
      "needs_background": "light"
     },
     "output_type": "display_data"
    }
   ],
   "source": [
    "scatterDF =  pd.DataFrame(\n",
    "    {'X': test_tsne_embeds[:,0],\n",
    "     'Y': test_tsne_embeds[:,1],\n",
    "     'Label': y_test\n",
    "    })\n",
    "\n",
    "scatter_plot = sns.lmplot(data=scatterDF, x='X', y='Y', hue='Label', fit_reg=False, legend=False)\n",
    "legend = scatter_plot.ax.legend(bbox_to_anchor=[1, 0.75],\n",
    "                         title=\"label\", fancybox=True)\n",
    "\n",
    "for i, text in enumerate(legend.get_texts()):\n",
    "    plt.setp(text,color = 'black')"
   ]
  },
  {
   "cell_type": "markdown",
   "metadata": {},
   "source": [
    "Build Multi-classification model"
   ]
  },
  {
   "cell_type": "code",
   "execution_count": 27,
   "metadata": {},
   "outputs": [],
   "source": [
    "def dist_diff_square(a,b):\n",
    "    return np.sum(np.square(a-b))\n",
    "\n",
    "def pred(k_nearest_neighbors):\n",
    "    pred_test = pd.DataFrame()\n",
    "    pred_test['spectrogram_filename'] = [spectrogram_filename.split('Extracted_Mel_Spectrogram/')[-1] for spectrogram_filename in directory_filenames_test]\n",
    "    pred_test['true_call_count'] = y_test\n",
    "    pred_test['pred_call_count'] = None\n",
    "    pred_test['pred_correct'] = 0\n",
    "    for i in range(len(pred_test)):\n",
    "        distance_with_each_category_name = []\n",
    "        for category_name in category_name_list:\n",
    "            category_name_train_index = [index for index, x in enumerate(y_train) if x == category_name]\n",
    "            x_train_embedding_category_name = x_train_embedding[category_name_train_index]\n",
    "            embedding_distance_category_name = [dist_diff_square(x_test_embedding[i], embedding) for embedding in x_train_embedding_category_name] \n",
    "            k_nearest_neighbors_category_name = sort(embedding_distance_category_name)[:k_nearest_neighbors]\n",
    "            distance_with_each_category_name.append(mean(k_nearest_neighbors_category_name))\n",
    "        most_similar_category_name_sorted = [category_name_list[i] for i in np.argsort(distance_with_each_category_name)]\n",
    "        pred_test.at[i,'pred_call_count'] = most_similar_category_name_sorted[0]\n",
    "        pred_test.at[i, 'pred_correct'] = int(y_test[i] in most_similar_category_name_sorted[0])\n",
    "    return pred_test"
   ]
  },
  {
   "cell_type": "code",
   "execution_count": 28,
   "metadata": {},
   "outputs": [
    {
     "name": "stdout",
     "output_type": "stream",
     "text": [
      "prediction accuracy for test set:  87.88%\n",
      "Predicted   1    2\n",
      "Actual            \n",
      "1          72   10\n",
      "2          12  102\n",
      "3           1    1\n"
     ]
    }
   ],
   "source": [
    "pred_test = pred(k_nearest_neighbors = 10)\n",
    "print('prediction accuracy for test set: ', \"{0:.2%}\".format(sum(pred_test.pred_correct) / len(pred_test)))\n",
    "\n",
    "confusion_matrix = pd.crosstab(pred_test['true_call_count'], pred_test['pred_call_count'], rownames=['Actual'], colnames=['Predicted'])\n",
    "print (confusion_matrix)"
   ]
  },
  {
   "cell_type": "code",
   "execution_count": 18,
   "metadata": {},
   "outputs": [],
   "source": [
    "x_train_embedding = branch_model.predict(x_train)\n",
    "x_test_embedding = branch_model.predict(x_test)"
   ]
  },
  {
   "cell_type": "code",
   "execution_count": 19,
   "metadata": {},
   "outputs": [
    {
     "data": {
      "text/plain": [
       "(array([  1.,   5.,   3.,   6.,  19., 141.,   6.,   7.,   5.,   5.]),\n",
       " array([-1.37054634, -1.12128105, -0.87201576, -0.62275047, -0.37348518,\n",
       "        -0.12421989,  0.12504539,  0.37431068,  0.62357597,  0.87284126,\n",
       "         1.12210655]),\n",
       " <a list of 10 Patch objects>)"
      ]
     },
     "execution_count": 19,
     "metadata": {},
     "output_type": "execute_result"
    },
    {
     "data": {
      "image/png": "[encoded data removed]",
      "text/plain": [
       "<Figure size 720x432 with 2 Axes>"
      ]
     },
     "metadata": {
      "needs_background": "light"
     },
     "output_type": "display_data"
    }
   ],
   "source": [
    "from sklearn.linear_model import LinearRegression\n",
    "reg = LinearRegression().fit(x_train_embedding, y_train_original)\n",
    "\n",
    "y_train_pred = reg.predict(x_train_embedding)\n",
    "y_test_pred = reg.predict(x_test_embedding)\n",
    "y_test_pred = np.array([max(0, y) for y in y_test_pred])\n",
    "\n",
    "redidual_train = y_train_pred - y_train_original\n",
    "redidual_test = y_test_pred - y_test_original\n",
    "\n",
    "fig, axes = plt.subplots(nrows=1, ncols=2, figsize=(10, 6))\n",
    "axes[0].hist(redidual_train)\n",
    "axes[1].hist(redidual_test)"
   ]
  },
  {
   "cell_type": "code",
   "execution_count": 20,
   "metadata": {},
   "outputs": [
    {
     "name": "stdout",
     "output_type": "stream",
     "text": [
      "Total number of calls in testing dataset:  316\n",
      "Total number of predicted calls in testing dataset:  314.02875\n"
     ]
    }
   ],
   "source": [
    "print('Total number of calls in testing dataset: ', sum(y_test_original))\n",
    "print('Total number of predicted calls in testing dataset: ', sum(y_test_pred))"
   ]
  },
  {
   "cell_type": "code",
   "execution_count": null,
   "metadata": {},
   "outputs": [],
   "source": []
  }
 ],
 "metadata": {
  "kernelspec": {
   "display_name": "Python 3 (ipykernel)",
   "language": "python",
   "name": "python3"
  },
  "language_info": {
   "codemirror_mode": {
    "name": "ipython",
    "version": 3
   },
   "file_extension": ".py",
   "mimetype": "text/x-python",
   "name": "python",
   "nbconvert_exporter": "python",
   "pygments_lexer": "ipython3",
   "version": "3.8.12"
  }
 },
 "nbformat": 4,
 "nbformat_minor": 4
}
