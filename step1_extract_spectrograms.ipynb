{
 "cells": [
  {
   "cell_type": "code",
   "execution_count": null,
   "metadata": {},
   "outputs": [],
   "source": [
    "'''\n",
    "Copyright (c) Microsoft Corporation. All rights reserved.\n",
    "Licensed under the MIT License.\n",
    "'''\n",
    "### Run the following command to install required packages:\n",
    "#! pip install -r requirements.txt"
   ]
  },
  {
   "cell_type": "code",
   "execution_count": null,
   "metadata": {},
   "outputs": [],
   "source": [
    "import pandas as pd\n",
    "import numpy as np\n",
    "from datetime import datetime, timedelta\n",
    "import glob\n",
    "import os\n",
    "import wave\n",
    "import re\n",
    "from collections import Counter\n",
    "import cv2\n",
    "import pylab\n",
    "import matplotlib\n",
    "from matplotlib import pyplot\n",
    "import math\n",
    "from joblib import Parallel, delayed\n",
    "import multiprocessing\n",
    "import gc\n",
    "import random"
   ]
  },
  {
   "cell_type": "code",
   "execution_count": 2,
   "metadata": {},
   "outputs": [],
   "source": [
    "current_dir = \"./blue_whales/\"\n",
    "\n",
    "data_dir = current_dir + \"data/\"\n",
    "labeled_data_dir = data_dir + 'labeled_data/'\n",
    "audio_dir = data_dir + \"raw_audio/\"\n",
    "output_spectrogram_dir = data_dir + \"extracted_spectrogram/\"\n",
    "\n",
    "if not os.path.exists(output_spectrogram_dir):\n",
    "    os.makedirs(output_spectrogram_dir)"
   ]
  },
  {
   "cell_type": "code",
   "execution_count": null,
   "metadata": {},
   "outputs": [],
   "source": [
    "label_list = glob.glob(labeled_data_dir + '*.csv')\n",
    "label_list"
   ]
  },
  {
   "cell_type": "code",
   "execution_count": null,
   "metadata": {},
   "outputs": [],
   "source": [
    "ANT_calls = pd.read_csv(labeled_data_dir + 'ANT_calls.csv')\n",
    "AUS_calls = pd.read_csv(labeled_data_dir + 'AUS_calls.csv')\n",
    "MAD_calls = pd.read_csv(labeled_data_dir + 'MAD_calls.csv')\n",
    "SRI_calls = pd.read_csv(labeled_data_dir + 'SRI_calls.csv')\n",
    "\n",
    "all_calls = [ANT_calls, AUS_calls, MAD_calls, SRI_calls]\n",
    "all_calls = pd.concat(all_calls).reset_index(drop=True)\n",
    "\n",
    "print('Total number of labeled calls: ', len(all_calls))\n",
    "all_calls.head()"
   ]
  },
  {
   "cell_type": "code",
   "execution_count": 5,
   "metadata": {},
   "outputs": [
    {
     "name": "stdout",
     "output_type": "stream",
     "text": [
      "Number of unique audio files with labels:  53\n"
     ]
    }
   ],
   "source": [
    "print('Number of unique audio files with labels: ', len(all_calls.audio_filename.unique()))"
   ]
  },
  {
   "cell_type": "code",
   "execution_count": 6,
   "metadata": {},
   "outputs": [
    {
     "name": "stdout",
     "output_type": "stream",
     "text": [
      "Total number of unique audio files:  55\n",
      "Example:  E:/Blue_Whales/Data/Raw_Audio\\ANT_BW\\SWAMS2015\\0635.wav\n"
     ]
    }
   ],
   "source": [
    "audio_list = glob.glob(audio_dir + '/*/*/*.wav')\n",
    "print('Total number of unique audio files: ', len(audio_list))\n",
    "print('Example: ', audio_list[0])"
   ]
  },
  {
   "cell_type": "code",
   "execution_count": 7,
   "metadata": {},
   "outputs": [
    {
     "name": "stdout",
     "output_type": "stream",
     "text": [
      "Number of matching audio files with labels 53\n",
      "Example:  0650.wav\n"
     ]
    }
   ],
   "source": [
    "matching_audio_list = list(set([audio.split('\\\\')[-1] for audio in audio_list]) \n",
    "                           & \n",
    "                           set(all_calls.audio_filename.unique())\n",
    "                          )\n",
    "print('Number of matching audio files with labels', len(matching_audio_list))\n",
    "print('Example: ', matching_audio_list[0])"
   ]
  },
  {
   "cell_type": "code",
   "execution_count": 8,
   "metadata": {},
   "outputs": [],
   "source": [
    "spectrogram_seconds_duration = 240\n",
    "\n",
    "def get_wav_info(wav_file):\n",
    "    wav = wave.open(wav_file, 'r')\n",
    "    frames = wav.readframes(-1)\n",
    "    sound_info = pylab.frombuffer(frames, 'int16')\n",
    "    frame_rate = wav.getframerate()\n",
    "    audio_length_second = int(len(sound_info) / frame_rate)\n",
    "    wav.close()\n",
    "    return sound_info, frame_rate, audio_length_second\n"
   ]
  },
  {
   "cell_type": "code",
   "execution_count": 9,
   "metadata": {},
   "outputs": [],
   "source": [
    "def generate_spectrogram_positive(i):\n",
    "    audio_filename = all_calls.loc[i, 'audio_filename']\n",
    "    matching_audio_filename = [audio for audio in audio_list if audio_filename in audio][0]\n",
    "    species = matching_audio_filename.split('raw_audio\\\\')[1][:3]\n",
    "    detection_startSeconds = int(all_calls.loc[i, 'startSeconds'])\n",
    "    detection_EndSeconds = int(all_calls.loc[i, 'EndSeconds'])\n",
    "    spectrogram_startSeconds = max(0, detection_startSeconds - random.sample(range(0, 30), 1)[0])\n",
    "    \n",
    "    sound_info, frame_rate, audio_length_second = get_wav_info(matching_audio_filename)\n",
    "    if spectrogram_startSeconds + spectrogram_seconds_duration <= audio_length_second:\n",
    "        spectrogram_endSeconds = spectrogram_startSeconds + spectrogram_seconds_duration\n",
    "    else:\n",
    "        spectrogram_endSeconds = max(audio_length_second, detection_EndSeconds + random.sample(range(0, 30), 1)[0])\n",
    "        spectrogram_startSeconds = spectrogram_endSeconds - spectrogram_seconds_duration\n",
    "        \n",
    "    pyplot.figure(num=None, figsize=(19, 12))\n",
    "    pyplot.subplot(222)\n",
    "    ax = pyplot.axes()\n",
    "    ax.set_axis_off()\n",
    "    pyplot.specgram(sound_info[frame_rate * spectrogram_startSeconds: frame_rate * spectrogram_endSeconds], \n",
    "                    Fs = frame_rate,\n",
    "                    NFFT = 1024,\n",
    "                    noverlap = 768)\n",
    "    pyplot.savefig(output_spectrogram_dir + species + '_Positive_' + audio_filename.split('.')[0] + '_' + str(spectrogram_startSeconds) + '_' + str(spectrogram_endSeconds) + '.png', bbox_inches='tight', transparent=True, pad_inches=0.0)\n",
    "    pyplot.close()\n",
    "    \n",
    "    gc.collect()\n",
    "    \n",
    "\n",
    "num_cores = multiprocessing.cpu_count()\n",
    "spectrograms = Parallel(n_jobs=num_cores)(delayed(generate_spectrogram_positive)(i) for i in range(len(all_calls)))\n"
   ]
  },
  {
   "cell_type": "code",
   "execution_count": 10,
   "metadata": {},
   "outputs": [],
   "source": [
    "def generate_spectrogram_negative(i):\n",
    "    audio_filename = list(all_calls.audio_filename.unique())[i]\n",
    "    matching_audio_filename = [audio for audio in audio_list if audio_filename in audio][0]\n",
    "    species = matching_audio_filename.split('raw_audio\\\\')[1][:3]\n",
    "    sound_info, frame_rate, audio_length_second = get_wav_info(matching_audio_filename)\n",
    "    \n",
    "    audio_filename_calls = all_calls.loc[all_calls.audio_filename == audio_filename]\n",
    "    audio_filename_calls_startSeconds = audio_filename_calls.startSeconds.tolist()\n",
    "    audio_filename_calls_EndSeconds = audio_filename_calls.EndSeconds.tolist()\n",
    "    audio_filename_calls_startSeconds_EndSeconds = audio_filename_calls_startSeconds + audio_filename_calls_EndSeconds\n",
    "    audio_filename_adjacent_calls_interval = []\n",
    "    for j in range(len(audio_filename_calls_startSeconds) - 1):\n",
    "        audio_filename_adjacent_calls_interval.append([audio_filename_calls_EndSeconds[j], audio_filename_calls_startSeconds[j+1]])\n",
    "    \n",
    "    for j in range(len(audio_filename_adjacent_calls_interval)):\n",
    "        if audio_filename_adjacent_calls_interval[j][1] - audio_filename_adjacent_calls_interval[j][0] >= spectrogram_seconds_duration:\n",
    "            audio_filename_EndSeconds_previous_call = math.ceil(audio_filename_adjacent_calls_interval[j][0])\n",
    "            audio_filename_startSeconds_next_call = math.floor(audio_filename_adjacent_calls_interval[j][1])\n",
    "            \n",
    "            spectrogram_intervalSeconds = 60  ## generate spectrogram for every 60 seconds\n",
    "            spectrogram_startSeconds = audio_filename_EndSeconds_previous_call + spectrogram_intervalSeconds\n",
    "            while spectrogram_startSeconds + spectrogram_seconds_duration <= audio_filename_startSeconds_next_call:\n",
    "                spectrogram_endSeconds = spectrogram_startSeconds + spectrogram_seconds_duration\n",
    "                pyplot.figure(num=None, figsize=(19, 12))\n",
    "                pyplot.subplot(222)\n",
    "                ax = pyplot.axes()\n",
    "                ax.set_axis_off()\n",
    "                pyplot.specgram(sound_info[frame_rate * spectrogram_startSeconds: frame_rate * spectrogram_endSeconds], \n",
    "                                Fs = frame_rate,\n",
    "                                NFFT = 1024,\n",
    "                                noverlap = 768)\n",
    "                pyplot.savefig(output_spectrogram_dir + species + '_Negative_' + audio_filename.split('.')[0] + '_' + str(spectrogram_startSeconds) + '_' + str(spectrogram_endSeconds) + '.png', bbox_inches='tight', transparent=True, pad_inches=0.0)\n",
    "                pyplot.close()\n",
    "                spectrogram_startSeconds += spectrogram_intervalSeconds\n",
    "\n",
    "num_cores = multiprocessing.cpu_count()\n",
    "spectrogram_no_calls = Parallel(n_jobs=num_cores)(delayed(generate_spectrogram_negative)(i) for i in range(len(all_calls.audio_filename.unique())))\n",
    " "
   ]
  },
  {
   "cell_type": "code",
   "execution_count": null,
   "metadata": {},
   "outputs": [],
   "source": []
  }
 ],
 "metadata": {
  "kernelspec": {
   "display_name": "Python 3 (ipykernel)",
   "language": "python",
   "name": "python3"
  },
  "language_info": {
   "codemirror_mode": {
    "name": "ipython",
    "version": 3
   },
   "file_extension": ".py",
   "mimetype": "text/x-python",
   "name": "python",
   "nbconvert_exporter": "python",
   "pygments_lexer": "ipython3",
   "version": "3.8.12"
  }
 },
 "nbformat": 4,
 "nbformat_minor": 4
}
