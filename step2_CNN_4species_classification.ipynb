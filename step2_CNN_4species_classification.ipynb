{
 "cells": [
  {
   "cell_type": "code",
   "execution_count": null,
   "metadata": {},
   "outputs": [],
   "source": [
    "'''\n",
    "Copyright (c) Microsoft Corporation. All rights reserved.\n",
    "Licensed under the MIT License.\n",
    "'''\n",
    "### Run the following command to install required packages:\n",
    "#! pip install -r requirements.txt"
   ]
  },
  {
   "cell_type": "code",
   "execution_count": null,
   "metadata": {},
   "outputs": [],
   "source": [
    "import os\n",
    "import glob\n",
    "import cv2\n",
    "import numpy as np\n",
    "from collections import Counter\n",
    "\n",
    "from sklearn.model_selection import train_test_split\n",
    "import csv\n",
    "import pandas as pd\n",
    "import tensorflow as tf\n",
    "import matplotlib.pyplot as plt\n",
    "\n",
    "import keras.backend as K \n",
    "import tensorflow as tf\n",
    "\n",
    "from sklearn.preprocessing import LabelBinarizer\n",
    "from keras_preprocessing.image import ImageDataGenerator\n",
    "from keras import models, layers, optimizers\n",
    "from keras.models import  Model, Sequential\n",
    "from keras.layers import Dense, Dropout, Flatten, Activation, GlobalAveragePooling2D, BatchNormalization, Concatenate\n",
    "from keras.callbacks import EarlyStopping\n",
    "from keras.layers.convolutional import Conv1D, Conv2D, MaxPooling2D\n",
    "from keras.utils import np_utils\n",
    "from keras.models import model_from_json\n",
    "from keras.applications import DenseNet121\n",
    "\n",
    "from sklearn.metrics import roc_auc_score\n",
    "\n",
    "import glob\n",
    "import gc\n",
    "import shutil\n",
    "from joblib import Parallel, delayed\n",
    "import multiprocessing\n",
    "import librosa\n",
    "import librosa.display\n",
    "from matplotlib import pyplot\n",
    "\n",
    "from sklearn.metrics import roc_curve\n",
    "from sklearn.metrics import roc_auc_score\n",
    "from sklearn.metrics import precision_recall_curve\n",
    "from sklearn.metrics import auc"
   ]
  },
  {
   "cell_type": "code",
   "execution_count": 2,
   "metadata": {},
   "outputs": [],
   "source": [
    "current_dir = \"./blue_whales/\"\n",
    "\n",
    "data_dir = current_dir + \"data/\"\n",
    "labeled_data_dir = data_dir + 'labeled_data/'\n",
    "spectrogram_dir = data_dir + \"extracted_spectrogram/\"\n"
   ]
  },
  {
   "cell_type": "code",
   "execution_count": 3,
   "metadata": {},
   "outputs": [
    {
     "name": "stdout",
     "output_type": "stream",
     "text": [
      "Number of spectrograms (ANT - with call): 1491\n",
      "Number of spectrograms (AUS - with call): 1459\n",
      "Number of spectrograms (MAD - with call): 2670\n",
      "Number of spectrograms (SRI - with call): 659\n",
      "Number of spectrograms (ANT - without call): 1099\n",
      "Number of spectrograms (AUS - without call): 1988\n",
      "Number of spectrograms (MAD - without call): 1187\n",
      "Number of spectrograms (SRI - without call): 1602\n"
     ]
    }
   ],
   "source": [
    "directory_filenames_ANT_Positive = glob.glob(spectrogram_dir + 'ANT_Positive_*.png')\n",
    "directory_filenames_AUS_Positive = glob.glob(spectrogram_dir + 'AUS_Positive_*.png')\n",
    "directory_filenames_MAD_Positive = glob.glob(spectrogram_dir + 'MAD_Positive_*.png')\n",
    "directory_filenames_SRI_Positive = glob.glob(spectrogram_dir + 'SRI_Positive_*.png')\n",
    "\n",
    "directory_filenames_ANT_Negative = glob.glob(spectrogram_dir + 'ANT_Negative_*.png')\n",
    "directory_filenames_AUS_Negative = glob.glob(spectrogram_dir + 'AUS_Negative_*.png')\n",
    "directory_filenames_MAD_Negative = glob.glob(spectrogram_dir + 'MAD_Negative_*.png')\n",
    "directory_filenames_SRI_Negative = glob.glob(spectrogram_dir + 'SRI_Negative_*.png')\n",
    "\n",
    "print(\"Number of spectrograms (ANT - with call):\", len(directory_filenames_ANT_Positive))\n",
    "print(\"Number of spectrograms (AUS - with call):\", len(directory_filenames_AUS_Positive))\n",
    "print(\"Number of spectrograms (MAD - with call):\", len(directory_filenames_MAD_Positive))\n",
    "print(\"Number of spectrograms (SRI - with call):\", len(directory_filenames_SRI_Positive))\n",
    "\n",
    "print(\"Number of spectrograms (ANT - without call):\", len(directory_filenames_ANT_Negative))\n",
    "print(\"Number of spectrograms (AUS - without call):\", len(directory_filenames_AUS_Negative))\n",
    "print(\"Number of spectrograms (MAD - without call):\", len(directory_filenames_MAD_Negative))\n",
    "print(\"Number of spectrograms (SRI - without call):\", len(directory_filenames_SRI_Negative))"
   ]
  },
  {
   "cell_type": "code",
   "execution_count": 4,
   "metadata": {},
   "outputs": [],
   "source": [
    "directory_filenames_Positive = directory_filenames_ANT_Positive + directory_filenames_AUS_Positive + directory_filenames_MAD_Positive + directory_filenames_SRI_Positive\n",
    "labels_Positive = ['ANT'] * len(directory_filenames_ANT_Positive) + ['AUS'] * len(directory_filenames_AUS_Positive) + ['MAD'] * len(directory_filenames_MAD_Positive) + ['SRI'] * len(directory_filenames_SRI_Positive)\n",
    "\n",
    "directory_filenames_Negative = directory_filenames_ANT_Negative + directory_filenames_AUS_Negative + directory_filenames_MAD_Negative + directory_filenames_SRI_Negative\n",
    "labels_Negative = ['ANT'] * len(directory_filenames_ANT_Negative) + ['AUS'] * len(directory_filenames_AUS_Negative) + ['MAD'] * len(directory_filenames_MAD_Negative) + ['SRI'] * len(directory_filenames_SRI_Negative)\n"
   ]
  },
  {
   "cell_type": "code",
   "execution_count": 5,
   "metadata": {},
   "outputs": [
    {
     "name": "stdout",
     "output_type": "stream",
     "text": [
      "Number of Species:  4\n",
      "species_id  ANT :  0\n",
      "species_id  AUS :  1\n",
      "species_id  MAD :  2\n",
      "species_id  SRI :  3\n"
     ]
    }
   ],
   "source": [
    "lb = LabelBinarizer()\n",
    "labels_Positive = lb.fit_transform(labels_Positive)\n",
    "labels_Positive = labels_Positive.astype('float')\n",
    "\n",
    "labels_Negative = lb.fit_transform(labels_Negative)\n",
    "labels_Negative = labels_Negative.astype('float')\n",
    "labels_Negative[labels_Negative == 0] = np.nan  \n",
    "labels_Negative[labels_Negative == 1] = 0 \n",
    "\n",
    "number_of_classes = len(lb.classes_)\n",
    "print(\"Number of Species: \", number_of_classes)\n",
    "\n",
    "species_id_class_dict = dict()\n",
    "for (class_label, species_id) in enumerate(lb.classes_):\n",
    "    species_id_class_dict[species_id] = class_label\n",
    "    print(\"species_id \", species_id, \": \", class_label)\n",
    "\n"
   ]
  },
  {
   "cell_type": "code",
   "execution_count": null,
   "metadata": {},
   "outputs": [],
   "source": [
    "spectrograms_Positive = []\n",
    "ncol, nrow = 224, 224\n",
    "\n",
    "for i in range(len(directory_filenames_Positive)):\n",
    "    img = cv2.imread(directory_filenames_Positive[i])  \n",
    "    img = cv2.resize(img, (ncol, nrow)) / 255.0\n",
    "    spectrograms_Positive.append(img)\n",
    "\n",
    "spectrograms_Positive = np.asarray(spectrograms_Positive)\n"
   ]
  },
  {
   "cell_type": "code",
   "execution_count": null,
   "metadata": {},
   "outputs": [],
   "source": [
    "spectrograms_Negative = []\n",
    "ncol, nrow = 224, 224\n",
    "\n",
    "for i in range(len(directory_filenames_Negative)):\n",
    "    img = cv2.imread(directory_filenames_Negative[i])  \n",
    "    img = cv2.resize(img, (ncol, nrow)) / 255.0\n",
    "    spectrograms_Negative.append(img)\n",
    "\n",
    "spectrograms_Negative = np.asarray(spectrograms_Negative)"
   ]
  },
  {
   "cell_type": "code",
   "execution_count": 8,
   "metadata": {},
   "outputs": [],
   "source": [
    "X_train_validation_Positive, X_test_Positive, y_train_validation_Positive, y_test_Positive, directory_filenames_Positive_train_validation, directory_filenames_Positive_test = train_test_split(spectrograms_Positive, labels_Positive, directory_filenames_Positive, test_size = 0.3, random_state = 42)\n",
    "X_train_validation_Negative, X_test_Negative, y_train_validation_Negative, y_test_Negative, directory_filenames_Negative_train_validation, directory_filenames_Negative_test = train_test_split(spectrograms_Negative, labels_Negative, directory_filenames_Negative, test_size = 0.3, random_state = 42)\n"
   ]
  },
  {
   "cell_type": "code",
   "execution_count": 9,
   "metadata": {},
   "outputs": [
    {
     "name": "stdout",
     "output_type": "stream",
     "text": [
      "(5955, 224, 224, 3)\n",
      "(5955, 4)\n",
      "(2553, 224, 224, 3)\n",
      "(2553, 4)\n",
      "(1884, 224, 224, 3)\n",
      "(1884, 4)\n",
      "(1763, 224, 224, 3)\n",
      "(1763, 4)\n"
     ]
    }
   ],
   "source": [
    "X_train_validation = np.concatenate([X_train_validation_Positive, X_train_validation_Negative])\n",
    "del X_train_validation_Positive\n",
    "del X_train_validation_Negative\n",
    "\n",
    "y_train_validation = np.concatenate([y_train_validation_Positive, y_train_validation_Negative])\n",
    "del y_train_validation_Positive\n",
    "del y_train_validation_Negative\n",
    "\n",
    "X_train, X_validation, y_train, y_validation = train_test_split(X_train_validation, y_train_validation, test_size = 0.3, random_state = 42)\n",
    "\n",
    "print(X_train.shape)   \n",
    "print(y_train.shape)\n",
    "print(X_validation.shape)   \n",
    "print(y_validation.shape)\n",
    "print(X_test_Positive.shape)   \n",
    "print(y_test_Positive.shape)\n",
    "print(X_test_Negative.shape)   \n",
    "print(y_test_Negative.shape)\n"
   ]
  },
  {
   "cell_type": "code",
   "execution_count": 10,
   "metadata": {},
   "outputs": [],
   "source": [
    "def missing_values_cross_entropy_loss(y_true, y_pred):\n",
    "    epsilon = 1.0e-30\n",
    "\n",
    "    y_true_not_nan_mask = tf.logical_not(tf.math.is_nan(y_true))\n",
    "    y_true_nan_replaced = tf.where(tf.math.is_nan(y_true), tf.zeros_like(y_true), y_true)\n",
    "\n",
    "    positive_predictions_cross_entropy = y_true_nan_replaced * tf.math.log(y_pred + epsilon)\n",
    "    negative_predictions_cross_entropy = (1.0 - y_true_nan_replaced) * tf.math.log(1.0 - y_pred + epsilon)\n",
    "    cross_entropy_loss = -(positive_predictions_cross_entropy + negative_predictions_cross_entropy)\n",
    "\n",
    "    cross_entropy_loss_discarded_nan_labels = cross_entropy_loss * tf.cast(y_true_not_nan_mask, tf.float32)\n",
    "\n",
    "    mean_loss_per_row = K.mean(cross_entropy_loss_discarded_nan_labels, axis=1)\n",
    "    mean_loss = K.mean(mean_loss_per_row)\n",
    "\n",
    "    return mean_loss"
   ]
  },
  {
   "cell_type": "code",
   "execution_count": 11,
   "metadata": {},
   "outputs": [
    {
     "name": "stdout",
     "output_type": "stream",
     "text": [
      "WARNING:tensorflow:From C:\\ProgramData\\Anaconda3\\lib\\site-packages\\tensorflow\\python\\framework\\op_def_library.py:263: colocate_with (from tensorflow.python.framework.ops) is deprecated and will be removed in a future version.\n",
      "Instructions for updating:\n",
      "Colocations handled automatically by placer.\n",
      "<keras.engine.input_layer.InputLayer object at 0x00000216D30825F8> True\n",
      "<keras.layers.convolutional.ZeroPadding2D object at 0x00000216D3082B70> True\n",
      "<keras.layers.convolutional.Conv2D object at 0x00000216D3082978> True\n",
      "<keras.layers.normalization.BatchNormalization object at 0x00000216D3082DA0> True\n",
      "<keras.layers.core.Activation object at 0x00000216D2FA3A90> True\n",
      "<keras.layers.convolutional.ZeroPadding2D object at 0x00000216D3112898> True\n",
      "<keras.layers.pooling.MaxPooling2D object at 0x00000216D31C0CC0> True\n",
      "<keras.layers.normalization.BatchNormalization object at 0x00000216D3171D30> True\n",
      "<keras.layers.core.Activation object at 0x00000216D33C5748> True\n",
      "<keras.layers.convolutional.Conv2D object at 0x00000216D3430F98> True\n",
      "<keras.layers.normalization.BatchNormalization object at 0x00000216D3410BA8> True\n",
      "<keras.layers.core.Activation object at 0x00000216D345EFD0> True\n",
      "<keras.layers.convolutional.Conv2D object at 0x00000216D3572CF8> True\n",
      "<keras.layers.merge.Concatenate object at 0x00000216D354BB38> True\n",
      "<keras.layers.normalization.BatchNormalization object at 0x00000216D3511F60> True\n",
      "<keras.layers.core.Activation object at 0x00000216D35CCE10> True\n",
      "<keras.layers.convolutional.Conv2D object at 0x00000216D36AAC18> True\n",
      "<keras.layers.normalization.BatchNormalization object at 0x00000216D367FB00> True\n",
      "<keras.layers.core.Activation object at 0x00000216D361AE80> True\n",
      "<keras.layers.convolutional.Conv2D object at 0x00000216D3112048> True\n",
      "<keras.layers.merge.Concatenate object at 0x00000216D37BB470> True\n",
      "<keras.layers.normalization.BatchNormalization object at 0x00000216D17CFE10> True\n",
      "<keras.layers.core.Activation object at 0x00000216D1020D30> True\n",
      "<keras.layers.convolutional.Conv2D object at 0x00000216D380DD68> True\n",
      "<keras.layers.normalization.BatchNormalization object at 0x00000216D3970630> True\n",
      "<keras.layers.core.Activation object at 0x00000216D392F5F8> True\n",
      "<keras.layers.convolutional.Conv2D object at 0x00000216D39FA2E8> True\n",
      "<keras.layers.merge.Concatenate object at 0x00000216D3A7CDD8> True\n",
      "<keras.layers.normalization.BatchNormalization object at 0x00000216D3AA8358> True\n",
      "<keras.layers.core.Activation object at 0x00000216D3A6D2E8> True\n",
      "<keras.layers.convolutional.Conv2D object at 0x00000216D3AEA898> True\n",
      "<keras.layers.normalization.BatchNormalization object at 0x00000216D3BB2D30> True\n",
      "<keras.layers.core.Activation object at 0x00000216D3BA2278> True\n",
      "<keras.layers.convolutional.Conv2D object at 0x00000216D3C8CBA8> True\n",
      "<keras.layers.merge.Concatenate object at 0x00000216D3C70C88> True\n",
      "<keras.layers.normalization.BatchNormalization object at 0x00000216D3CEB748> True\n",
      "<keras.layers.core.Activation object at 0x00000216D3CBB6D8> True\n",
      "<keras.layers.convolutional.Conv2D object at 0x00000216D3DC6FD0> True\n",
      "<keras.layers.normalization.BatchNormalization object at 0x00000216D3DA7BE0> True\n",
      "<keras.layers.core.Activation object at 0x00000216D3E52208> True\n",
      "<keras.layers.convolutional.Conv2D object at 0x00000216D3EFEEB8> True\n",
      "<keras.layers.merge.Concatenate object at 0x00000216D3EDEC88> True\n",
      "<keras.layers.normalization.BatchNormalization object at 0x00000216D3F60C18> True\n",
      "<keras.layers.core.Activation object at 0x00000216D3FB0C88> True\n",
      "<keras.layers.convolutional.Conv2D object at 0x00000216D403ED30> True\n",
      "<keras.layers.normalization.BatchNormalization object at 0x00000216D4016BE0> True\n",
      "<keras.layers.core.Activation object at 0x00000216D4060BA8> True\n",
      "<keras.layers.convolutional.Conv2D object at 0x00000216D4139978> True\n",
      "<keras.layers.merge.Concatenate object at 0x00000216D4150E48> True\n",
      "<keras.layers.normalization.BatchNormalization object at 0x00000216D41DB898> True\n",
      "<keras.layers.core.Activation object at 0x00000216D419F908> True\n",
      "<keras.layers.convolutional.Conv2D object at 0x00000216D4223DD8> True\n",
      "<keras.layers.pooling.AveragePooling2D object at 0x00000216D4289D68> True\n",
      "<keras.layers.normalization.BatchNormalization object at 0x00000216D42DB240> True\n",
      "<keras.layers.core.Activation object at 0x00000216D435ED30> True\n",
      "<keras.layers.convolutional.Conv2D object at 0x00000216D4382908> True\n",
      "<keras.layers.normalization.BatchNormalization object at 0x00000216D43BCDA0> True\n",
      "<keras.layers.core.Activation object at 0x00000216D440D7B8> True\n",
      "<keras.layers.convolutional.Conv2D object at 0x00000216D44B7908> True\n",
      "<keras.layers.merge.Concatenate object at 0x00000216D45872B0> True\n",
      "<keras.layers.normalization.BatchNormalization object at 0x00000216D45217B8> True\n",
      "<keras.layers.core.Activation object at 0x00000216D4544588> True\n",
      "<keras.layers.convolutional.Conv2D object at 0x00000216D45CFD68> True\n",
      "<keras.layers.normalization.BatchNormalization object at 0x00000216D4657710> True\n",
      "<keras.layers.core.Activation object at 0x00000216D46C17F0> True\n",
      "<keras.layers.convolutional.Conv2D object at 0x00000216D47067F0> True\n",
      "<keras.layers.merge.Concatenate object at 0x00000216D474BBA8> True\n",
      "<keras.layers.normalization.BatchNormalization object at 0x00000216D47CCC18> True\n",
      "<keras.layers.core.Activation object at 0x00000216D47BC208> True\n",
      "<keras.layers.convolutional.Conv2D object at 0x00000216D483F6D8> True\n",
      "<keras.layers.normalization.BatchNormalization object at 0x00000216D488B470> True\n",
      "<keras.layers.core.Activation object at 0x00000216D58FF3C8> True\n",
      "<keras.layers.convolutional.Conv2D object at 0x00000216D59AB9B0> True\n",
      "<keras.layers.merge.Concatenate object at 0x00000216D598EE48> True\n",
      "<keras.layers.normalization.BatchNormalization object at 0x00000216D5A0EA20> True\n",
      "<keras.layers.core.Activation object at 0x00000216D59DBE48> True\n",
      "<keras.layers.convolutional.Conv2D object at 0x00000216D5AE8FD0> True\n",
      "<keras.layers.normalization.BatchNormalization object at 0x00000216D5AC6DA0> True\n",
      "<keras.layers.core.Activation object at 0x00000216D5B75048> True\n",
      "<keras.layers.convolutional.Conv2D object at 0x00000216D5C25C18> True\n",
      "<keras.layers.merge.Concatenate object at 0x00000216D5BFEAC8> True\n",
      "<keras.layers.normalization.BatchNormalization object at 0x00000216D5C83A20> True\n",
      "<keras.layers.core.Activation object at 0x00000216D5CD4F28> True\n",
      "<keras.layers.convolutional.Conv2D object at 0x00000216D5D1EA58> True\n",
      "<keras.layers.normalization.BatchNormalization object at 0x00000216D5D39F60> True\n",
      "<keras.layers.core.Activation object at 0x00000216D5E34828> True\n",
      "<keras.layers.convolutional.Conv2D object at 0x00000216D5CFDA20> True\n",
      "<keras.layers.merge.Concatenate object at 0x00000216D5E74390> True\n",
      "<keras.layers.normalization.BatchNormalization object at 0x00000216D5E9BFD0> True\n",
      "<keras.layers.core.Activation object at 0x00000216D5F01AC8> True\n",
      "<keras.layers.convolutional.Conv2D object at 0x00000216D5F6C780> True\n",
      "<keras.layers.normalization.BatchNormalization object at 0x00000216D603A630> True\n",
      "<keras.layers.core.Activation object at 0x00000216D6054DD8> True\n",
      "<keras.layers.convolutional.Conv2D object at 0x00000216D60C92E8> True\n",
      "<keras.layers.merge.Concatenate object at 0x00000216D614BDD8> True\n",
      "<keras.layers.normalization.BatchNormalization object at 0x00000216D61795F8> True\n",
      "<keras.layers.core.Activation object at 0x00000216D6138320> True\n",
      "<keras.layers.convolutional.Conv2D object at 0x00000216D61BB898> True\n",
      "<keras.layers.normalization.BatchNormalization object at 0x00000216D6284D30> True\n",
      "<keras.layers.core.Activation object at 0x00000216D62B2588> True\n",
      "<keras.layers.convolutional.Conv2D object at 0x00000216D635FF98> True\n",
      "<keras.layers.merge.Concatenate object at 0x00000216D6341C88> True\n",
      "<keras.layers.normalization.BatchNormalization object at 0x00000216D63BEA90> True\n",
      "<keras.layers.core.Activation object at 0x00000216D63866D8> True\n",
      "<keras.layers.convolutional.Conv2D object at 0x00000216D645C5C0> True\n",
      "<keras.layers.normalization.BatchNormalization object at 0x00000216D6478518> True\n",
      "<keras.layers.core.Activation object at 0x00000216D64C3128> True\n",
      "<keras.layers.convolutional.Conv2D object at 0x00000216D65D0EB8> True\n",
      "<keras.layers.merge.Concatenate object at 0x00000216D65ADC88> True\n",
      "<keras.layers.normalization.BatchNormalization object at 0x00000216D6630710> True\n",
      "<keras.layers.core.Activation object at 0x00000216D6681C88> True\n",
      "<keras.layers.convolutional.Conv2D object at 0x00000216D6712D30> True\n",
      "<keras.layers.normalization.BatchNormalization object at 0x00000216D66E5BE0> True\n",
      "<keras.layers.core.Activation object at 0x00000216D66ADDA0> True\n",
      "<keras.layers.convolutional.Conv2D object at 0x00000216D680A978> True\n",
      "<keras.layers.merge.Concatenate object at 0x00000216D6823E48> True\n",
      "<keras.layers.normalization.BatchNormalization object at 0x00000216D68AC898> True\n",
      "<keras.layers.core.Activation object at 0x00000216D6872908> True\n",
      "<keras.layers.convolutional.Conv2D object at 0x00000216D68F4DD8> True\n",
      "<keras.layers.normalization.BatchNormalization object at 0x00000216D695D4E0> True\n",
      "<keras.layers.core.Activation object at 0x00000216D69AD7B8> True\n",
      "<keras.layers.convolutional.Conv2D object at 0x00000216D6A578D0> True\n",
      "<keras.layers.merge.Concatenate object at 0x00000216D6B22518> True\n",
      "<keras.layers.normalization.BatchNormalization object at 0x00000216D6ABD7B8> True\n",
      "<keras.layers.core.Activation object at 0x00000216D6AE24E0> True\n",
      "<keras.layers.convolutional.Conv2D object at 0x00000216D6B6ED30> True\n",
      "<keras.layers.normalization.BatchNormalization object at 0x00000216D6C5E748> True\n",
      "<keras.layers.core.Activation object at 0x00000216D6C1E438> True\n",
      "<keras.layers.convolutional.Conv2D object at 0x00000216D6CA6C88> True\n",
      "<keras.layers.merge.Concatenate object at 0x00000216D6CE9BA8> True\n",
      "<keras.layers.normalization.BatchNormalization object at 0x00000216D6D6BC18> True\n",
      "<keras.layers.core.Activation object at 0x00000216D6D5A1D0> True\n",
      "<keras.layers.convolutional.Conv2D object at 0x00000216D6E0C898> True\n",
      "<keras.layers.normalization.BatchNormalization object at 0x00000216D6E29470> True\n",
      "<keras.layers.core.Activation object at 0x00000216D6ECF390> True\n",
      "<keras.layers.convolutional.Conv2D object at 0x00000216D6F7C9B0> True\n",
      "<keras.layers.merge.Concatenate object at 0x00000216D6F5FE48> True\n",
      "<keras.layers.normalization.BatchNormalization object at 0x00000216D6FDFA20> True\n",
      "<keras.layers.core.Activation object at 0x00000216D7024668> True\n",
      "<keras.layers.convolutional.Conv2D object at 0x00000216D70B9FD0> True\n",
      "<keras.layers.pooling.AveragePooling2D object at 0x00000216D7097DA0> True\n",
      "<keras.layers.normalization.BatchNormalization object at 0x00000216D70E44E0> True\n",
      "<keras.layers.core.Activation object at 0x00000216D714A048> True\n",
      "<keras.layers.convolutional.Conv2D object at 0x00000216D7195AC8> True\n",
      "<keras.layers.normalization.BatchNormalization object at 0x00000216D71CDDA0> True\n",
      "<keras.layers.core.Activation object at 0x00000216D727F048> True\n",
      "<keras.layers.convolutional.Conv2D object at 0x00000216D732CC18> True\n",
      "<keras.layers.merge.Concatenate object at 0x00000216D7306AC8> True\n",
      "<keras.layers.normalization.BatchNormalization object at 0x00000216D738BA58> True\n",
      "<keras.layers.core.Activation object at 0x00000216D73534E0> True\n",
      "<keras.layers.convolutional.Conv2D object at 0x00000216D7424A90> True\n",
      "<keras.layers.normalization.BatchNormalization object at 0x00000216D743F358> True\n",
      "<keras.layers.core.Activation object at 0x00000216D753C860> True\n",
      "<keras.layers.convolutional.Conv2D object at 0x00000216D73DCEF0> True\n",
      "<keras.layers.merge.Concatenate object at 0x00000216D75A0978> True\n",
      "<keras.layers.normalization.BatchNormalization object at 0x00000216D75A0AC8> True\n",
      "<keras.layers.core.Activation object at 0x00000216D76066D8> True\n",
      "<keras.layers.convolutional.Conv2D object at 0x00000216D764CB38> True\n",
      "<keras.layers.normalization.BatchNormalization object at 0x00000216D7741630> True\n",
      "<keras.layers.core.Activation object at 0x00000216D77015F8> True\n",
      "<keras.layers.convolutional.Conv2D object at 0x00000216D77CC2E8> True\n",
      "<keras.layers.merge.Concatenate object at 0x00000216D784DDA0> True\n",
      "<keras.layers.normalization.BatchNormalization object at 0x00000216D787B5F8> True\n",
      "<keras.layers.core.Activation object at 0x00000216D783E3C8> True\n",
      "<keras.layers.convolutional.Conv2D object at 0x00000216D78BE898> True\n",
      "<keras.layers.normalization.BatchNormalization object at 0x00000216D7988D30> True\n",
      "<keras.layers.core.Activation object at 0x00000216D7978278> True\n",
      "<keras.layers.convolutional.Conv2D object at 0x00000216D7A28390> True\n",
      "<keras.layers.merge.Concatenate object at 0x00000216D7A44C88> True\n",
      "<keras.layers.normalization.BatchNormalization object at 0x00000216D7AC0A90> True\n",
      "<keras.layers.core.Activation object at 0x00000216D7A906A0> True\n",
      "<keras.layers.convolutional.Conv2D object at 0x00000216D7B99FD0> True\n",
      "<keras.layers.normalization.BatchNormalization object at 0x00000216D7B7BBE0> True\n",
      "<keras.layers.core.Activation object at 0x00000216D7C74550> True\n",
      "<keras.layers.convolutional.Conv2D object at 0x00000216D7C74F98> True\n",
      "<keras.layers.merge.Concatenate object at 0x00000216D7CAE668> True\n",
      "<keras.layers.normalization.BatchNormalization object at 0x00000216D7D329B0> True\n",
      "<keras.layers.core.Activation object at 0x00000216D7D80F98> True\n",
      "<keras.layers.convolutional.Conv2D object at 0x00000216D7E11D30> True\n",
      "<keras.layers.normalization.BatchNormalization object at 0x00000216D7DE8C18> True\n",
      "<keras.layers.core.Activation object at 0x00000216D7E345F8> True\n",
      "<keras.layers.convolutional.Conv2D object at 0x00000216D7E6CB38> True\n",
      "<keras.layers.merge.Concatenate object at 0x00000216D7F0C898> True\n",
      "<keras.layers.normalization.BatchNormalization object at 0x00000216D7FB0898> True\n",
      "<keras.layers.core.Activation object at 0x00000216D7F76828> True\n",
      "<keras.layers.convolutional.Conv2D object at 0x00000216D7FF9DD8> True\n",
      "<keras.layers.normalization.BatchNormalization object at 0x00000216D805DDA0> True\n",
      "<keras.layers.core.Activation object at 0x00000216D80AF7B8> True\n",
      "<keras.layers.convolutional.Conv2D object at 0x00000216D8158908> True\n",
      "<keras.layers.merge.Concatenate object at 0x00000216D91F5518> True\n",
      "<keras.layers.normalization.BatchNormalization object at 0x00000216D91907B8> True\n",
      "<keras.layers.core.Activation object at 0x00000216D91B44E0> True\n",
      "<keras.layers.convolutional.Conv2D object at 0x00000216D923ECF8> True\n",
      "<keras.layers.normalization.BatchNormalization object at 0x00000216D92C8710> True\n",
      "<keras.layers.core.Activation object at 0x00000216D92EC710> True\n",
      "<keras.layers.convolutional.Conv2D object at 0x00000216D937BB00> True\n",
      "<keras.layers.merge.Concatenate object at 0x00000216D93BCBA8> True\n",
      "<keras.layers.normalization.BatchNormalization object at 0x00000216D943FBE0> True\n",
      "<keras.layers.core.Activation object at 0x00000216D942F0F0> True\n",
      "<keras.layers.convolutional.Conv2D object at 0x00000216D94DF898> True\n",
      "<keras.layers.normalization.BatchNormalization object at 0x00000216D94FA470> True\n",
      "<keras.layers.core.Activation object at 0x00000216D95A43C8> True\n",
      "<keras.layers.convolutional.Conv2D object at 0x00000216D96529B0> True\n",
      "<keras.layers.merge.Concatenate object at 0x00000216D9634E48> True\n",
      "<keras.layers.normalization.BatchNormalization object at 0x00000216D96E5198> True\n",
      "<keras.layers.core.Activation object at 0x00000216D967EE48> True\n",
      "<keras.layers.convolutional.Conv2D object at 0x00000216D978EFD0> True\n",
      "<keras.layers.normalization.BatchNormalization object at 0x00000216D976ADD8> True\n",
      "<keras.layers.core.Activation object at 0x00000216D97B94E0> True\n",
      "<keras.layers.convolutional.Conv2D object at 0x00000216D98CCC18> True\n",
      "<keras.layers.merge.Concatenate object at 0x00000216D98A3AC8> True\n",
      "<keras.layers.normalization.BatchNormalization object at 0x00000216D9869358> True\n",
      "<keras.layers.core.Activation object at 0x00000216D9926A58> True\n",
      "<keras.layers.convolutional.Conv2D object at 0x00000216D99C1A90> True\n",
      "<keras.layers.normalization.BatchNormalization object at 0x00000216D99DBF60> True\n",
      "<keras.layers.core.Activation object at 0x00000216D9AD4828> True\n",
      "<keras.layers.convolutional.Conv2D object at 0x00000216D9978F28> True\n",
      "<keras.layers.merge.Concatenate object at 0x00000216D9B3E978> True\n",
      "<keras.layers.normalization.BatchNormalization object at 0x00000216D9B3EAC8> True\n",
      "<keras.layers.core.Activation object at 0x00000216D9BA46D8> True\n",
      "<keras.layers.convolutional.Conv2D object at 0x00000216D9BECB38> True\n",
      "<keras.layers.normalization.BatchNormalization object at 0x00000216D9CDE630> True\n",
      "<keras.layers.core.Activation object at 0x00000216D9C9E5F8> True\n",
      "<keras.layers.convolutional.Conv2D object at 0x00000216D9D6B2E8> True\n",
      "<keras.layers.merge.Concatenate object at 0x00000216D9DECDD8> True\n",
      "<keras.layers.normalization.BatchNormalization object at 0x00000216D9DB65F8> True\n",
      "<keras.layers.core.Activation object at 0x00000216D9DDD320> True\n",
      "<keras.layers.convolutional.Conv2D object at 0x00000216D9E60B38> True\n",
      "<keras.layers.normalization.BatchNormalization object at 0x00000216D9F27D30> True\n",
      "<keras.layers.core.Activation object at 0x00000216D9F17278> True\n",
      "<keras.layers.convolutional.Conv2D object at 0x00000216DA000F98> True\n",
      "<keras.layers.merge.Concatenate object at 0x00000216D9FE2C88> True\n",
      "<keras.layers.normalization.BatchNormalization object at 0x00000216DA060A90> True\n",
      "<keras.layers.core.Activation object at 0x00000216DA0276D8> True\n",
      "<keras.layers.convolutional.Conv2D object at 0x00000216DA137FD0> True\n",
      "<keras.layers.normalization.BatchNormalization object at 0x00000216DA119BA8> True\n",
      "<keras.layers.core.Activation object at 0x00000216DA1C3208> True\n",
      "<keras.layers.convolutional.Conv2D object at 0x00000216DA271EB8> True\n",
      "<keras.layers.merge.Concatenate object at 0x00000216DA24EC88> True\n",
      "<keras.layers.normalization.BatchNormalization object at 0x00000216DA2D4780> True\n",
      "<keras.layers.core.Activation object at 0x00000216DA324F60> True\n",
      "<keras.layers.convolutional.Conv2D object at 0x00000216DA3B4D30> True\n",
      "<keras.layers.normalization.BatchNormalization object at 0x00000216DA38CBE0> True\n",
      "<keras.layers.core.Activation object at 0x00000216DA3D6BA8> True\n",
      "<keras.layers.convolutional.Conv2D object at 0x00000216DA40CA90> True\n",
      "<keras.layers.merge.Concatenate object at 0x00000216DA4C2E10> True\n",
      "<keras.layers.normalization.BatchNormalization object at 0x00000216DA54E898> True\n",
      "<keras.layers.core.Activation object at 0x00000216DA517828> True\n",
      "<keras.layers.convolutional.Conv2D object at 0x00000216DA597DD8> True\n",
      "<keras.layers.normalization.BatchNormalization object at 0x00000216DA5FADA0> True\n",
      "<keras.layers.core.Activation object at 0x00000216DA64E908> True\n",
      "<keras.layers.convolutional.Conv2D object at 0x00000216DA6FA908> True\n",
      "<keras.layers.merge.Concatenate object at 0x00000216DA7C4518> True\n",
      "<keras.layers.normalization.BatchNormalization object at 0x00000216DA75F7B8> True\n",
      "<keras.layers.core.Activation object at 0x00000216DA7844E0> True\n",
      "<keras.layers.convolutional.Conv2D object at 0x00000216DA80ED30> True\n",
      "<keras.layers.normalization.BatchNormalization object at 0x00000216DA903748> True\n",
      "<keras.layers.core.Activation object at 0x00000216DA8BE438> True\n",
      "<keras.layers.convolutional.Conv2D object at 0x00000216DA948B00> True\n",
      "<keras.layers.merge.Concatenate object at 0x00000216DA98EBA8> True\n",
      "<keras.layers.normalization.BatchNormalization object at 0x00000216DAA08C18> True\n",
      "<keras.layers.core.Activation object at 0x00000216DA9FE208> True\n",
      "<keras.layers.convolutional.Conv2D object at 0x00000216DAAAE898> True\n",
      "<keras.layers.normalization.BatchNormalization object at 0x00000216DAACB390> True\n",
      "<keras.layers.core.Activation object at 0x00000216DAB78470> True\n",
      "<keras.layers.convolutional.Conv2D object at 0x00000216DAC269B0> True\n",
      "<keras.layers.merge.Concatenate object at 0x00000216DAC07E48> True\n",
      "<keras.layers.normalization.BatchNormalization object at 0x00000216DAC84A20> True\n",
      "<keras.layers.core.Activation object at 0x00000216DAC50E48> True\n",
      "<keras.layers.convolutional.Conv2D object at 0x00000216DAD5DFD0> True\n",
      "<keras.layers.normalization.BatchNormalization object at 0x00000216DAD3ADA0> True\n",
      "<keras.layers.core.Activation object at 0x00000216DADEB048> True\n",
      "<keras.layers.convolutional.Conv2D object at 0x00000216DAE99C18> True\n",
      "<keras.layers.merge.Concatenate object at 0x00000216DAE72AC8> True\n",
      "<keras.layers.normalization.BatchNormalization object at 0x00000216DAE39E10> True\n",
      "<keras.layers.core.Activation object at 0x00000216DAEF7A20> True\n",
      "<keras.layers.convolutional.Conv2D object at 0x00000216DAF90A90> True\n",
      "<keras.layers.normalization.BatchNormalization object at 0x00000216DAFAB358> True\n",
      "<keras.layers.core.Activation object at 0x00000216DB0A8828> True\n",
      "<keras.layers.convolutional.Conv2D object at 0x00000216DAF48F28> True\n",
      "<keras.layers.merge.Concatenate object at 0x00000216DB10E978> True\n",
      "<keras.layers.normalization.BatchNormalization object at 0x00000216DB10EAC8> True\n",
      "<keras.layers.core.Activation object at 0x00000216DB1766D8> True\n",
      "<keras.layers.convolutional.Conv2D object at 0x00000216DB1BBB00> True\n",
      "<keras.layers.normalization.BatchNormalization object at 0x00000216DB2AF630> True\n",
      "<keras.layers.core.Activation object at 0x00000216DB2705F8> True\n",
      "<keras.layers.convolutional.Conv2D object at 0x00000216DB33C2E8> True\n",
      "<keras.layers.merge.Concatenate object at 0x00000216DB3BFDD8> True\n",
      "<keras.layers.normalization.BatchNormalization object at 0x00000216DB3E8630> True\n",
      "<keras.layers.core.Activation object at 0x00000216DB3AE320> True\n",
      "<keras.layers.convolutional.Conv2D object at 0x00000216DB42D898> True\n",
      "<keras.layers.normalization.BatchNormalization object at 0x00000216DB4F6D30> True\n",
      "<keras.layers.core.Activation object at 0x00000216DB522588> True\n",
      "<keras.layers.convolutional.Conv2D object at 0x00000216DB5CFF98> True\n",
      "<keras.layers.merge.Concatenate object at 0x00000216DB5B2C88> True\n",
      "<keras.layers.normalization.BatchNormalization object at 0x00000216DB62FA90> True\n",
      "<keras.layers.core.Activation object at 0x00000216DB5F66D8> True\n",
      "<keras.layers.convolutional.Conv2D object at 0x00000216DB708FD0> True\n",
      "<keras.layers.normalization.BatchNormalization object at 0x00000216DB6ECBE0> True\n",
      "<keras.layers.core.Activation object at 0x00000216DB72B860> True\n",
      "<keras.layers.convolutional.Conv2D object at 0x00000216DB759908> True\n",
      "<keras.layers.merge.Concatenate object at 0x00000216DB821668> True\n",
      "<keras.layers.normalization.BatchNormalization object at 0x00000216DB8A4C18> True\n",
      "<keras.layers.core.Activation object at 0x00000216DB8F5F60> True\n",
      "<keras.layers.convolutional.Conv2D object at 0x00000216DB986D30> True\n",
      "<keras.layers.normalization.BatchNormalization object at 0x00000216DB95DBE0> True\n",
      "<keras.layers.core.Activation object at 0x00000216DB922D68> True\n",
      "<keras.layers.convolutional.Conv2D object at 0x00000216DBA7F978> True\n",
      "<keras.layers.merge.Concatenate object at 0x00000216DBA96E48> True\n",
      "<keras.layers.normalization.BatchNormalization object at 0x00000216DBB23898> True\n",
      "<keras.layers.core.Activation object at 0x00000216DBAE5908> True\n",
      "<keras.layers.convolutional.Conv2D object at 0x00000216DCB39DD8> True\n",
      "<keras.layers.pooling.AveragePooling2D object at 0x00000216DCBCBA90> True\n",
      "<keras.layers.normalization.BatchNormalization object at 0x00000216DCBEE9B0> True\n",
      "<keras.layers.core.Activation object at 0x00000216DCC9E358> True\n",
      "<keras.layers.convolutional.Conv2D object at 0x00000216DCCF5FD0> True\n",
      "<keras.layers.normalization.BatchNormalization object at 0x00000216DCCD4DA0> True\n",
      "<keras.layers.core.Activation object at 0x00000216DCD566A0> True\n",
      "<keras.layers.convolutional.Conv2D object at 0x00000216DCE32C18> True\n",
      "<keras.layers.merge.Concatenate object at 0x00000216DCE0BAC8> True\n",
      "<keras.layers.normalization.BatchNormalization object at 0x00000216DCDD2DD8> True\n",
      "<keras.layers.core.Activation object at 0x00000216DCE8CA58> True\n",
      "<keras.layers.convolutional.Conv2D object at 0x00000216DCEE0EB8> True\n",
      "<keras.layers.normalization.BatchNormalization object at 0x00000216DCF44F28> True\n",
      "<keras.layers.core.Activation object at 0x00000216DD042860> True\n",
      "<keras.layers.convolutional.Conv2D object at 0x00000216DCF087F0> True\n",
      "<keras.layers.merge.Concatenate object at 0x00000216DD0A86D8> True\n",
      "<keras.layers.normalization.BatchNormalization object at 0x00000216DD0A8940> True\n",
      "<keras.layers.core.Activation object at 0x00000216DD1116A0> True\n",
      "<keras.layers.convolutional.Conv2D object at 0x00000216DD155B38> True\n",
      "<keras.layers.normalization.BatchNormalization object at 0x00000216DD246550> True\n",
      "<keras.layers.core.Activation object at 0x00000216DD2075F8> True\n",
      "<keras.layers.convolutional.Conv2D object at 0x00000216DD2D52E8> True\n",
      "<keras.layers.merge.Concatenate object at 0x00000216DD357DD8> True\n",
      "<keras.layers.normalization.BatchNormalization object at 0x00000216DD383630> True\n",
      "<keras.layers.core.Activation object at 0x00000216DD347320> True\n",
      "<keras.layers.convolutional.Conv2D object at 0x00000216DD246D30> True\n",
      "<keras.layers.normalization.BatchNormalization object at 0x00000216DD4132B0> True\n",
      "<keras.layers.core.Activation object at 0x00000216DD4BF588> True\n",
      "<keras.layers.convolutional.Conv2D object at 0x00000216DD568F60> True\n",
      "<keras.layers.merge.Concatenate object at 0x00000216DD54BC88> True\n",
      "<keras.layers.normalization.BatchNormalization object at 0x00000216DD5C8A90> True\n",
      "<keras.layers.core.Activation object at 0x00000216DD5986A0> True\n",
      "<keras.layers.convolutional.Conv2D object at 0x00000216DD6A2FD0> True\n",
      "<keras.layers.normalization.BatchNormalization object at 0x00000216DD683BA8> True\n",
      "<keras.layers.core.Activation object at 0x00000216DD72C208> True\n",
      "<keras.layers.convolutional.Conv2D object at 0x00000216DD7DEEB8> True\n",
      "<keras.layers.merge.Concatenate object at 0x00000216DD7B9908> True\n",
      "<keras.layers.normalization.BatchNormalization object at 0x00000216DD83F9B0> True\n",
      "<keras.layers.core.Activation object at 0x00000216DD891C88> True\n",
      "<keras.layers.convolutional.Conv2D object at 0x00000216DD8DCF60> True\n",
      "<keras.layers.normalization.BatchNormalization object at 0x00000216DD8F7828> True\n",
      "<keras.layers.core.Activation object at 0x00000216DD944CC0> True\n",
      "<keras.layers.convolutional.Conv2D object at 0x00000216DD979A90> True\n",
      "<keras.layers.merge.Concatenate object at 0x00000216DDA30240> True\n",
      "<keras.layers.normalization.BatchNormalization object at 0x00000216DDABB860> True\n",
      "<keras.layers.core.Activation object at 0x00000216DDA7F908> True\n",
      "<keras.layers.convolutional.Conv2D object at 0x00000216DDB02DD8> True\n",
      "<keras.layers.normalization.BatchNormalization object at 0x00000216DDB67DA0> True\n",
      "<keras.layers.core.Activation object at 0x00000216DDBB77B8> True\n",
      "<keras.layers.convolutional.Conv2D object at 0x00000216DDC63908> True\n",
      "<keras.layers.merge.Concatenate object at 0x00000216DDD30518> True\n",
      "<keras.layers.normalization.BatchNormalization object at 0x00000216DDCCA780> True\n",
      "<keras.layers.core.Activation object at 0x00000216DDCEF4A8> True\n",
      "<keras.layers.convolutional.Conv2D object at 0x00000216DDD7AD30> True\n",
      "<keras.layers.normalization.BatchNormalization object at 0x00000216DDE6B710> True\n",
      "<keras.layers.core.Activation object at 0x00000216DDE2A4E0> True\n",
      "<keras.layers.convolutional.Conv2D object at 0x00000216DDEB3B00> True\n",
      "<keras.layers.merge.Concatenate object at 0x00000216DDEF8518> True\n",
      "<keras.layers.normalization.BatchNormalization object at 0x00000216DDF78C18> True\n",
      "<keras.layers.core.Activation object at 0x00000216DDF68208> True\n",
      "<keras.layers.convolutional.Conv2D object at 0x00000216DE018860> True\n",
      "<keras.layers.normalization.BatchNormalization object at 0x00000216DE034470> True\n",
      "<keras.layers.core.Activation object at 0x00000216DE0DE3C8> True\n",
      "<keras.layers.convolutional.Conv2D object at 0x00000216DE18BA90> True\n",
      "<keras.layers.merge.Concatenate object at 0x00000216DE151D68> True\n",
      "<keras.layers.normalization.BatchNormalization object at 0x00000216DE1EAA20> True\n",
      "<keras.layers.core.Activation object at 0x00000216DE1B7E10> True\n",
      "<keras.layers.convolutional.Conv2D object at 0x00000216DE2C6FD0> True\n",
      "<keras.layers.normalization.BatchNormalization object at 0x00000216DE2A2DA0> True\n",
      "<keras.layers.core.Activation object at 0x00000216DE353048> True\n",
      "<keras.layers.convolutional.Conv2D object at 0x00000216DE400C18> True\n",
      "<keras.layers.merge.Concatenate object at 0x00000216DE3DBAC8> True\n",
      "<keras.layers.normalization.BatchNormalization object at 0x00000216DE45E7F0> True\n",
      "<keras.layers.core.Activation object at 0x00000216DE427AC8> True\n",
      "<keras.layers.convolutional.Conv2D object at 0x00000216DE53CF60> True\n",
      "<keras.layers.normalization.BatchNormalization object at 0x00000216DE512F60> True\n",
      "<keras.layers.core.Activation object at 0x00000216DE60D860> True\n",
      "<keras.layers.convolutional.Conv2D object at 0x00000216DE4B2EF0> True\n",
      "<keras.layers.merge.Concatenate object at 0x00000216DE650390> True\n",
      "<keras.layers.normalization.BatchNormalization object at 0x00000216DE6DF6A0> True\n",
      "<keras.layers.core.Activation object at 0x00000216DE6A0748> True\n",
      "<keras.layers.convolutional.Conv2D object at 0x00000216DE727B70> True\n",
      "<keras.layers.normalization.BatchNormalization object at 0x00000216DE835A90> True\n",
      "<keras.layers.core.Activation object at 0x00000216DE7D65C0> True\n",
      "<keras.layers.convolutional.Conv2D object at 0x00000216DE85FC50> True\n",
      "<keras.layers.merge.Concatenate object at 0x00000216DE924DA0> True\n",
      "<keras.layers.normalization.BatchNormalization object at 0x00000216DE8DD5C0> True\n",
      "<keras.layers.core.Activation object at 0x00000216DE90B2E8> True\n",
      "<keras.layers.convolutional.Conv2D object at 0x00000216DE9936A0> True\n",
      "<keras.layers.normalization.BatchNormalization object at 0x00000216DEA61CF8> True\n",
      "<keras.layers.core.Activation object at 0x00000216DEA8F550> True\n",
      "<keras.layers.convolutional.Conv2D object at 0x00000216DEB00358> True\n",
      "<keras.layers.merge.Concatenate object at 0x00000216DEB1DC50> True\n",
      "<keras.layers.normalization.BatchNormalization object at 0x00000216DEB98A58> True\n",
      "<keras.layers.core.Activation object at 0x00000216DEB68668> True\n",
      "<keras.layers.convolutional.Conv2D object at 0x00000216DEC76F98> True\n",
      "<keras.layers.normalization.BatchNormalization object at 0x00000216DEC54BA8> True\n",
      "<keras.layers.core.Activation object at 0x00000216DECFD1D0> True\n",
      "<keras.layers.convolutional.Conv2D object at 0x00000216DEDAEDA0> True\n",
      "<keras.layers.merge.Concatenate object at 0x00000216DED89C50> True\n",
      "<keras.layers.normalization.BatchNormalization object at 0x00000216DEDD9668> True\n",
      "<keras.layers.core.Activation object at 0x00000216DEE0D550> True\n",
      "<keras.layers.convolutional.Conv2D object at 0x00000216DEEEBCF8> True\n",
      "<keras.layers.normalization.BatchNormalization object at 0x00000216DEEC3BA8> True\n",
      "<keras.layers.core.Activation object at 0x00000216DEE86A58> True\n",
      "<keras.layers.convolutional.Conv2D object at 0x00000216DEFE3940> True\n",
      "<keras.layers.merge.Concatenate object at 0x00000216DEFFD208> True\n",
      "<keras.layers.normalization.BatchNormalization object at 0x00000216DF089860> True\n",
      "<keras.layers.core.Activation object at 0x00000216DF04E8D0> True\n",
      "<keras.layers.convolutional.Conv2D object at 0x00000216DF0D3D30> True\n",
      "<keras.layers.normalization.BatchNormalization object at 0x00000216DF135D68> True\n",
      "<keras.layers.core.Activation object at 0x00000216DF189780> True\n",
      "<keras.layers.convolutional.Conv2D object at 0x00000216DF235898> True\n",
      "<keras.layers.merge.Concatenate object at 0x00000216DF2FF4E0> True\n",
      "<keras.layers.normalization.BatchNormalization object at 0x00000216DF299780> True\n",
      "<keras.layers.core.Activation object at 0x00000216DF2BD4A8> True\n",
      "WARNING:tensorflow:From C:\\ProgramData\\Anaconda3\\lib\\site-packages\\keras\\backend\\tensorflow_backend.py:3445: calling dropout (from tensorflow.python.ops.nn_ops) with keep_prob is deprecated and will be removed in a future version.\n",
      "Instructions for updating:\n",
      "Please use `rate` instead of `keep_prob`. Rate should be set to `rate = 1 - keep_prob`.\n",
      "_________________________________________________________________\n",
      "Layer (type)                 Output Shape              Param #   \n",
      "=================================================================\n",
      "densenet121 (Model)          (None, 7, 7, 1024)        7037504   \n",
      "_________________________________________________________________\n",
      "flatten_1 (Flatten)          (None, 50176)             0         \n",
      "_________________________________________________________________\n",
      "dense_1 (Dense)              (None, 512)               25690624  \n",
      "_________________________________________________________________\n",
      "dropout_1 (Dropout)          (None, 512)               0         \n",
      "_________________________________________________________________\n",
      "dense_2 (Dense)              (None, 4)                 2052      \n",
      "=================================================================\n",
      "Total params: 32,730,180\n",
      "Trainable params: 32,646,532\n",
      "Non-trainable params: 83,648\n",
      "_________________________________________________________________\n"
     ]
    }
   ],
   "source": [
    "number_of_classes = y_train.shape[1]\n",
    "\n",
    "DenseNet121_conv = DenseNet121(weights='imagenet', include_top=False, input_shape=(nrow, ncol, 3))\n",
    "\n",
    "for layer in DenseNet121_conv.layers:\n",
    "    layer.trainable = True\n",
    "\n",
    "for layer in DenseNet121_conv.layers:\n",
    "    print(layer, layer.trainable)\n",
    "\n",
    "model = models.Sequential()\n",
    "model.add(DenseNet121_conv)\n",
    "\n",
    "model.add(layers.Flatten())\n",
    "model.add(layers.Dense(512, activation='relu'))\n",
    "model.add(layers.Dropout(0.5))\n",
    "model.add(layers.Dense(number_of_classes, activation='sigmoid'))\n",
    "optimizer = optimizers.adam(lr=0.0001, decay=1e-7)\n",
    "model.compile(loss = missing_values_cross_entropy_loss, optimizer = optimizer, metrics = ['accuracy'])\n",
    "model.summary()\n"
   ]
  },
  {
   "cell_type": "code",
   "execution_count": 12,
   "metadata": {},
   "outputs": [
    {
     "name": "stdout",
     "output_type": "stream",
     "text": [
      "WARNING:tensorflow:From C:\\ProgramData\\Anaconda3\\lib\\site-packages\\tensorflow\\python\\ops\\math_ops.py:3066: to_int32 (from tensorflow.python.ops.math_ops) is deprecated and will be removed in a future version.\n",
      "Instructions for updating:\n",
      "Use tf.cast instead.\n",
      "Train on 5955 samples, validate on 2553 samples\n",
      "Epoch 1/5\n",
      "5955/5955 [==============================] - 8471s 1s/step - loss: 0.2447 - acc: 0.6166 - val_loss: 0.0965 - val_acc: 0.7681\n",
      "Epoch 2/5\n",
      "5955/5955 [==============================] - 6903s 1s/step - loss: 0.1069 - acc: 0.6935 - val_loss: 0.0778 - val_acc: 0.7395\n",
      "Epoch 3/5\n",
      "5955/5955 [==============================] - 6894s 1s/step - loss: 0.0748 - acc: 0.6917 - val_loss: 0.0738 - val_acc: 0.7195\n",
      "Epoch 4/5\n",
      "5955/5955 [==============================] - 6888s 1s/step - loss: 0.0557 - acc: 0.6846 - val_loss: 0.0713 - val_acc: 0.7309\n",
      "Epoch 5/5\n",
      "5955/5955 [==============================] - 6895s 1s/step - loss: 0.0456 - acc: 0.6831 - val_loss: 0.0900 - val_acc: 0.6874\n"
     ]
    },
    {
     "data": {
      "text/plain": [
       "Text(0.5, 1.0, 'Predicted Probability - SRI')"
      ]
     },
     "execution_count": 12,
     "metadata": {},
     "output_type": "execute_result"
    },
    {
     "data": {
      "image/png": "[encoded data removed]",
      "text/plain": [
       "<Figure size 720x576 with 4 Axes>"
      ]
     },
     "metadata": {
      "needs_background": "light"
     },
     "output_type": "display_data"
    }
   ],
   "source": [
    "model_history = model.fit(X_train, y_train, batch_size=16, epochs=5, verbose=1, validation_data=(X_validation, y_validation))\n",
    "y_train_pred_prob = model.predict(X_train)\n",
    "\n",
    "    \n",
    "fig, ax = plt.subplots(nrows=2, ncols=2, figsize = (10, 8))\n",
    "ax = ax.ravel() \n",
    "\n",
    "ax[0].hist(y_train_pred_prob[:,0])\n",
    "ax[0].set_title('Predicted Probability - ANT')\n",
    "\n",
    "ax[1].hist(y_train_pred_prob[:,1])\n",
    "ax[1].set_title('Predicted Probability - AUS')\n",
    "\n",
    "ax[2].hist(y_train_pred_prob[:,2])\n",
    "ax[2].set_title('Predicted Probability - MAD')\n",
    "\n",
    "ax[3].hist(y_train_pred_prob[:,3])\n",
    "ax[3].set_title('Predicted Probability - SRI')"
   ]
  },
  {
   "cell_type": "markdown",
   "metadata": {},
   "source": [
    "# Prediction for labeled calls (all positive)"
   ]
  },
  {
   "cell_type": "code",
   "execution_count": 15,
   "metadata": {},
   "outputs": [
    {
     "name": "stdout",
     "output_type": "stream",
     "text": [
      "number of predicted ANT calls: 1396\n",
      "number of predicted AUS calls: 1374\n",
      "number of predicted MAD calls: 2516\n",
      "number of predicted SRI calls: 561\n"
     ]
    }
   ],
   "source": [
    "yhat_probs_Positive = model.predict(spectrograms_Positive)\n",
    "\n",
    "yhat_positive_probs_ANT = yhat_probs_Positive[:,0]\n",
    "yhat_positive_probs_AUS = yhat_probs_Positive[:,1]\n",
    "yhat_positive_probs_MAD = yhat_probs_Positive[:,2]\n",
    "yhat_positive_probs_SRI = yhat_probs_Positive[:,3]\n",
    "\n",
    "print('number of predicted ANT calls:', sum([x>=0.5 for x in yhat_positive_probs_ANT]))\n",
    "print('number of predicted AUS calls:', sum([x>=0.5 for x in yhat_positive_probs_AUS]))\n",
    "print('number of predicted MAD calls:', sum([x>=0.5 for x in yhat_positive_probs_MAD]))\n",
    "print('number of predicted SRI calls:', sum([x>=0.5 for x in yhat_positive_probs_SRI]))"
   ]
  },
  {
   "cell_type": "code",
   "execution_count": 16,
   "metadata": {},
   "outputs": [
    {
     "data": {
      "text/plain": [
       "Text(0.5, 1.0, 'Predicted Probability - SRI')"
      ]
     },
     "execution_count": 16,
     "metadata": {},
     "output_type": "execute_result"
    },
    {
     "data": {
      "image/png": "[encoded data removed]",
      "text/plain": [
       "<Figure size 720x576 with 4 Axes>"
      ]
     },
     "metadata": {
      "needs_background": "light"
     },
     "output_type": "display_data"
    }
   ],
   "source": [
    "fig, ax = plt.subplots(nrows=2, ncols=2, figsize = (10, 8))\n",
    "ax = ax.ravel() \n",
    "\n",
    "ax[0].hist(yhat_positive_probs_ANT)\n",
    "ax[0].set_title('Predicted Probability - ANT')\n",
    "\n",
    "ax[1].hist(yhat_positive_probs_AUS)\n",
    "ax[1].set_title('Predicted Probability - AUS')\n",
    "\n",
    "ax[2].hist(yhat_positive_probs_MAD)\n",
    "ax[2].set_title('Predicted Probability - MAD')\n",
    "\n",
    "ax[3].hist(yhat_positive_probs_SRI)\n",
    "ax[3].set_title('Predicted Probability - SRI')"
   ]
  },
  {
   "cell_type": "markdown",
   "metadata": {},
   "source": [
    "# Prediction for spectrograms extracted from \"nocall\" clips"
   ]
  },
  {
   "cell_type": "code",
   "execution_count": 17,
   "metadata": {},
   "outputs": [
    {
     "data": {
      "text/plain": [
       "Text(0.5, 1.0, 'Predicted Probability - Not SRI')"
      ]
     },
     "execution_count": 17,
     "metadata": {},
     "output_type": "execute_result"
    },
    {
     "data": {
      "image/png": "[encoded data removed]",
      "text/plain": [
       "<Figure size 720x576 with 4 Axes>"
      ]
     },
     "metadata": {
      "needs_background": "light"
     },
     "output_type": "display_data"
    }
   ],
   "source": [
    "yhat_probs_Negative = model.predict(spectrograms_Negative)\n",
    "\n",
    "yhat_Negative_probs_ANT = yhat_probs_Negative[:,0]\n",
    "yhat_Negative_probs_AUS = yhat_probs_Negative[:,1]\n",
    "yhat_Negative_probs_MAD = yhat_probs_Negative[:,2]\n",
    "yhat_Negative_probs_SRI = yhat_probs_Negative[:,3]\n",
    "\n",
    "fig, ax = plt.subplots(nrows=2, ncols=2, figsize = (10, 8))\n",
    "ax = ax.ravel() \n",
    "\n",
    "ax[0].hist(yhat_Negative_probs_ANT)\n",
    "ax[0].set_title('Predicted Probability - Not ANT')\n",
    "\n",
    "ax[1].hist(yhat_Negative_probs_AUS)\n",
    "ax[1].set_title('Predicted Probability - Not AUS')\n",
    "\n",
    "ax[2].hist(yhat_Negative_probs_MAD)\n",
    "ax[2].set_title('Predicted Probability - Not MAD')\n",
    "\n",
    "ax[3].hist(yhat_Negative_probs_SRI)\n",
    "ax[3].set_title('Predicted Probability - Not SRI')"
   ]
  },
  {
   "cell_type": "markdown",
   "metadata": {},
   "source": [
    "# Model Evaluation on Test set"
   ]
  },
  {
   "cell_type": "code",
   "execution_count": 18,
   "metadata": {},
   "outputs": [],
   "source": [
    "yhat_probs_Positive_test = model.predict(X_test_Positive)\n",
    "\n",
    "yhat_Positive_test_probs_ANT = yhat_probs_Positive_test[:,0]\n",
    "yhat_Positive_test_probs_AUS = yhat_probs_Positive_test[:,1]\n",
    "yhat_Positive_test_probs_MAD = yhat_probs_Positive_test[:,2]\n",
    "yhat_Positive_test_probs_SRI = yhat_probs_Positive_test[:,3]\n",
    "\n",
    "yhat_probs_Negative_test = model.predict(X_test_Negative)\n",
    "\n",
    "yhat_Negative_test_probs_ANT = yhat_probs_Negative_test[:,0]\n",
    "yhat_Negative_test_probs_AUS = yhat_probs_Negative_test[:,1]\n",
    "yhat_Negative_test_probs_MAD = yhat_probs_Negative_test[:,2]\n",
    "yhat_Negative_test_probs_SRI = yhat_probs_Negative_test[:,3]\n"
   ]
  },
  {
   "cell_type": "code",
   "execution_count": 19,
   "metadata": {},
   "outputs": [],
   "source": [
    "output_positive_test = pd.DataFrame()\n",
    "output_positive_test['filename'] = directory_filenames_Positive_test\n",
    "output_positive_test['label'] = 1\n",
    "output_positive_test['predicted_probability'] = 0.0\n",
    "for i in range(len(output_positive_test)):\n",
    "    species_id = output_positive_test.loc[i, 'filename'].split('\\\\')[-1].split('_')[0]\n",
    "    predicted_probability = yhat_probs_Positive_test[i][species_id_class_dict[species_id]]\n",
    "    output_positive_test.at[i, 'species_id'] = species_id\n",
    "    output_positive_test.at[i, 'predicted_probability'] = predicted_probability\n",
    "    \n",
    "output_negative_test = pd.DataFrame()\n",
    "output_negative_test['filename'] = directory_filenames_Negative_test\n",
    "output_negative_test['label'] = 0\n",
    "output_negative_test['predicted_probability'] = 0.0\n",
    "for i in range(len(output_negative_test)):\n",
    "    species_id = output_negative_test.loc[i, 'filename'].split('\\\\')[-1].split('_')[0]\n",
    "    predicted_probability = yhat_probs_Negative_test[i][species_id_class_dict[species_id]]\n",
    "    output_negative_test.at[i, 'species_id'] = species_id\n",
    "    output_negative_test.at[i, 'predicted_probability'] = predicted_probability  \n"
   ]
  },
  {
   "cell_type": "code",
   "execution_count": 20,
   "metadata": {},
   "outputs": [
    {
     "data": {
      "text/plain": [
       "Text(0.5, 1.0, 'Predicted Probability - Without Blue Whale Calls')"
      ]
     },
     "execution_count": 20,
     "metadata": {},
     "output_type": "execute_result"
    },
    {
     "data": {
      "image/png": "[encoded data removed]",
      "text/plain": [
       "<Figure size 720x288 with 2 Axes>"
      ]
     },
     "metadata": {
      "needs_background": "light"
     },
     "output_type": "display_data"
    }
   ],
   "source": [
    "fig, ax = plt.subplots(nrows=1, ncols=2, figsize = (10, 4))\n",
    "ax = ax.ravel() \n",
    "\n",
    "ax[0].hist(output_positive_test.predicted_probability)\n",
    "ax[0].set_title('Predicted Probability - With Blue Whale Calls')\n",
    "\n",
    "ax[1].hist(output_negative_test.predicted_probability)\n",
    "ax[1].set_title('Predicted Probability - Without Blue Whale Calls')"
   ]
  },
  {
   "cell_type": "code",
   "execution_count": 21,
   "metadata": {},
   "outputs": [
    {
     "name": "stderr",
     "output_type": "stream",
     "text": [
      "No handles with labels found to put in legend.\n"
     ]
    },
    {
     "name": "stdout",
     "output_type": "stream",
     "text": [
      "False Negative Rate: 10.72%\n",
      "False Positive Rate: 9.08%\n",
      "AUC: 0.9565\n",
      "Accuracy: 0.9007\n",
      "Precision: 0.9131\n",
      "Recall: 0.8928\n"
     ]
    },
    {
     "data": {
      "image/png": "[encoded data removed]",
      "text/plain": [
       "<Figure size 432x288 with 1 Axes>"
      ]
     },
     "metadata": {
      "needs_background": "light"
     },
     "output_type": "display_data"
    },
    {
     "name": "stderr",
     "output_type": "stream",
     "text": [
      "No handles with labels found to put in legend.\n"
     ]
    },
    {
     "name": "stdout",
     "output_type": "stream",
     "text": [
      "Precesion Recall AUC: 0.9622\n"
     ]
    },
    {
     "data": {
      "image/png": "[encoded data removed]",
      "text/plain": [
       "<Figure size 432x288 with 1 Axes>"
      ]
     },
     "metadata": {
      "needs_background": "light"
     },
     "output_type": "display_data"
    }
   ],
   "source": [
    "tp = len([i for i,v in enumerate(output_positive_test.predicted_probability) if v >= 0.5])\n",
    "fn = len([i for i,v in enumerate(output_positive_test.predicted_probability) if v < 0.5])\n",
    "tn = len([i for i,v in enumerate(output_negative_test.predicted_probability) if v < 0.5])\n",
    "fp = len([i for i,v in enumerate(output_negative_test.predicted_probability) if v >= 0.5])\n",
    "false_negative_rate = fn / (tp + fn)\n",
    "false_positive_rate = fp / (tn + fp)\n",
    "precision = tp / (tp + fp)\n",
    "recall = tp / (tp + fn)\n",
    "accuracy = (tp + tn) / (tp + fp + tn + fn)\n",
    "\n",
    "print('False Negative Rate:', '{:.2%}'.format(false_negative_rate))\n",
    "print('False Positive Rate:', '{:.2%}'.format(false_positive_rate))\n",
    "\n",
    "y_true_test = output_positive_test.label.tolist()+ output_negative_test.label.tolist()\n",
    "y_predicted_probability_test = output_positive_test.predicted_probability.tolist() + output_negative_test.predicted_probability.tolist()\n",
    "AUC = roc_auc_score(y_true_test, y_predicted_probability_test) \n",
    "print('AUC: %.4f' % AUC)\n",
    "print('Accuracy: %.4f' % accuracy)\n",
    "print('Precision: %.4f' % precision)\n",
    "print('Recall: %.4f' % recall)\n",
    "\n",
    "fpr, tpr, thresholds = roc_curve(y_true_test, y_predicted_probability_test)\n",
    "plt.plot(fpr, tpr, marker='.')\n",
    "plt.xlabel('False Positive Rate')\n",
    "plt.ylabel('True Positive Rate')\n",
    "plt.legend()\n",
    "plt.show()\n",
    "\n",
    "precision, recall, thresholds = precision_recall_curve(y_true_test, y_predicted_probability_test)\n",
    "precision_recall_auc = auc(recall, precision)\n",
    "print('Precesion Recall AUC: %.4f' % precision_recall_auc)\n",
    "\n",
    "plt.plot(recall, precision, marker='.')\n",
    "plt.xlabel('Recall')\n",
    "plt.ylabel('Precision')\n",
    "plt.legend()\n",
    "plt.show()"
   ]
  },
  {
   "cell_type": "markdown",
   "metadata": {},
   "source": [
    "Evaluation for ANT"
   ]
  },
  {
   "cell_type": "code",
   "execution_count": 22,
   "metadata": {},
   "outputs": [
    {
     "data": {
      "text/plain": [
       "Text(0.5, 1.0, 'Predicted Probability - Without ANT Calls')"
      ]
     },
     "execution_count": 22,
     "metadata": {},
     "output_type": "execute_result"
    },
    {
     "data": {
      "image/png": "[encoded data removed]",
      "text/plain": [
       "<Figure size 720x288 with 2 Axes>"
      ]
     },
     "metadata": {
      "needs_background": "light"
     },
     "output_type": "display_data"
    }
   ],
   "source": [
    "fig, ax = plt.subplots(nrows=1, ncols=2, figsize = (10, 4))\n",
    "ax = ax.ravel() \n",
    "\n",
    "ax[0].hist(output_positive_test.loc[output_positive_test.species_id =='ANT'].predicted_probability)\n",
    "ax[0].set_title('Predicted Probability - With ANT Calls')\n",
    "\n",
    "ax[1].hist(output_negative_test.loc[output_positive_test.species_id  =='ANT'].predicted_probability)\n",
    "ax[1].set_title('Predicted Probability - Without ANT Calls')\n"
   ]
  },
  {
   "cell_type": "code",
   "execution_count": 23,
   "metadata": {},
   "outputs": [
    {
     "name": "stderr",
     "output_type": "stream",
     "text": [
      "No handles with labels found to put in legend.\n"
     ]
    },
    {
     "name": "stdout",
     "output_type": "stream",
     "text": [
      "False Negative Rate: 10.04%\n",
      "False Positive Rate: 7.76%\n",
      "AUC: 0.9491\n",
      "Accuracy: 0.9106\n",
      "Precision: 0.9253\n",
      "Recall: 0.8996\n"
     ]
    },
    {
     "data": {
      "image/png": "[encoded data removed]",
      "text/plain": [
       "<Figure size 432x288 with 1 Axes>"
      ]
     },
     "metadata": {
      "needs_background": "light"
     },
     "output_type": "display_data"
    },
    {
     "name": "stderr",
     "output_type": "stream",
     "text": [
      "No handles with labels found to put in legend.\n"
     ]
    },
    {
     "name": "stdout",
     "output_type": "stream",
     "text": [
      "Precesion Recall AUC: 0.9496\n"
     ]
    },
    {
     "data": {
      "image/png": "[encoded data removed]",
      "text/plain": [
       "<Figure size 432x288 with 1 Axes>"
      ]
     },
     "metadata": {
      "needs_background": "light"
     },
     "output_type": "display_data"
    }
   ],
   "source": [
    "tp = len([i for i,v in enumerate(output_positive_test.loc[output_positive_test.species_id  =='ANT'].predicted_probability) if v >= 0.5])\n",
    "fn = len([i for i,v in enumerate(output_positive_test.loc[output_positive_test.species_id  =='ANT'].predicted_probability) if v < 0.5])\n",
    "tn = len([i for i,v in enumerate(output_negative_test.loc[output_positive_test.species_id  =='ANT'].predicted_probability) if v < 0.5])\n",
    "fp = len([i for i,v in enumerate(output_negative_test.loc[output_positive_test.species_id  =='ANT'].predicted_probability) if v >= 0.5])\n",
    "false_negative_rate = fn / (tp + fn)\n",
    "false_positive_rate = fp / (tn + fp)\n",
    "precision = tp / (tp + fp)\n",
    "recall = tp / (tp + fn)\n",
    "accuracy = (tp + tn) / (tp + fp + tn + fn)\n",
    "\n",
    "print('False Negative Rate:', '{:.2%}'.format(false_negative_rate))\n",
    "print('False Positive Rate:', '{:.2%}'.format(false_positive_rate))\n",
    "\n",
    "y_true_test = output_positive_test.loc[output_positive_test.species_id  =='ANT'].label.tolist()+ output_negative_test.loc[output_positive_test.species_id  =='ANT'].label.tolist()\n",
    "y_predicted_probability_test = output_positive_test.loc[output_positive_test.species_id  =='ANT'].predicted_probability.tolist() + output_negative_test.loc[output_positive_test.species_id  =='ANT'].predicted_probability.tolist()\n",
    "AUC = roc_auc_score(y_true_test, y_predicted_probability_test) \n",
    "print('AUC: %.4f' % AUC)\n",
    "print('Accuracy: %.4f' % accuracy)\n",
    "print('Precision: %.4f' % precision)\n",
    "print('Recall: %.4f' % recall)\n",
    "\n",
    "fpr, tpr, thresholds = roc_curve(y_true_test, y_predicted_probability_test)\n",
    "plt.plot(fpr, tpr, marker='.')\n",
    "plt.xlabel('False Positive Rate')\n",
    "plt.ylabel('True Positive Rate')\n",
    "plt.legend()\n",
    "plt.show()\n",
    "\n",
    "precision, recall, thresholds = precision_recall_curve(y_true_test, y_predicted_probability_test)\n",
    "precision_recall_auc = auc(recall, precision)\n",
    "print('Precesion Recall AUC: %.4f' % precision_recall_auc)\n",
    "\n",
    "plt.plot(recall, precision, marker='.')\n",
    "plt.xlabel('Recall')\n",
    "plt.ylabel('Precision')\n",
    "plt.legend()\n",
    "plt.show()"
   ]
  },
  {
   "cell_type": "markdown",
   "metadata": {},
   "source": [
    "Evaluation for AUS"
   ]
  },
  {
   "cell_type": "code",
   "execution_count": 24,
   "metadata": {},
   "outputs": [
    {
     "data": {
      "text/plain": [
       "Text(0.5, 1.0, 'Predicted Probability - Without AUS Calls')"
      ]
     },
     "execution_count": 24,
     "metadata": {},
     "output_type": "execute_result"
    },
    {
     "data": {
      "image/png": "[encoded data removed]",
      "text/plain": [
       "<Figure size 720x288 with 2 Axes>"
      ]
     },
     "metadata": {
      "needs_background": "light"
     },
     "output_type": "display_data"
    }
   ],
   "source": [
    "fig, ax = plt.subplots(nrows=1, ncols=2, figsize = (10, 4))\n",
    "ax = ax.ravel() \n",
    "\n",
    "ax[0].hist(output_positive_test.loc[output_positive_test.species_id =='AUS'].predicted_probability)\n",
    "ax[0].set_title('Predicted Probability - With AUS Calls')\n",
    "\n",
    "ax[1].hist(output_negative_test.loc[output_positive_test.species_id  =='AUS'].predicted_probability)\n",
    "ax[1].set_title('Predicted Probability - Without AUS Calls')"
   ]
  },
  {
   "cell_type": "code",
   "execution_count": 25,
   "metadata": {},
   "outputs": [
    {
     "name": "stderr",
     "output_type": "stream",
     "text": [
      "No handles with labels found to put in legend.\n"
     ]
    },
    {
     "name": "stdout",
     "output_type": "stream",
     "text": [
      "False Negative Rate: 8.29%\n",
      "False Positive Rate: 10.12%\n",
      "AUC: 0.9602\n",
      "Accuracy: 0.9082\n",
      "Precision: 0.9066\n",
      "Recall: 0.9171\n"
     ]
    },
    {
     "data": {
      "image/png": "[encoded data removed]",
      "text/plain": [
       "<Figure size 432x288 with 1 Axes>"
      ]
     },
     "metadata": {
      "needs_background": "light"
     },
     "output_type": "display_data"
    },
    {
     "name": "stderr",
     "output_type": "stream",
     "text": [
      "No handles with labels found to put in legend.\n"
     ]
    },
    {
     "name": "stdout",
     "output_type": "stream",
     "text": [
      "Precesion Recall AUC: 0.9673\n"
     ]
    },
    {
     "data": {
      "image/png": "[encoded data removed]",
      "text/plain": [
       "<Figure size 432x288 with 1 Axes>"
      ]
     },
     "metadata": {
      "needs_background": "light"
     },
     "output_type": "display_data"
    }
   ],
   "source": [
    "tp = len([i for i,v in enumerate(output_positive_test.loc[output_positive_test.species_id  =='AUS'].predicted_probability) if v >= 0.5])\n",
    "fn = len([i for i,v in enumerate(output_positive_test.loc[output_positive_test.species_id  =='AUS'].predicted_probability) if v < 0.5])\n",
    "tn = len([i for i,v in enumerate(output_negative_test.loc[output_positive_test.species_id  =='AUS'].predicted_probability) if v < 0.5])\n",
    "fp = len([i for i,v in enumerate(output_negative_test.loc[output_positive_test.species_id  =='AUS'].predicted_probability) if v >= 0.5])\n",
    "false_negative_rate = fn / (tp + fn)\n",
    "false_positive_rate = fp / (tn + fp)\n",
    "precision = tp / (tp + fp)\n",
    "recall = tp / (tp + fn)\n",
    "accuracy = (tp + tn) / (tp + fp + tn + fn)\n",
    "\n",
    "print('False Negative Rate:', '{:.2%}'.format(false_negative_rate))\n",
    "print('False Positive Rate:', '{:.2%}'.format(false_positive_rate))\n",
    "\n",
    "y_true_test = output_positive_test.loc[output_positive_test.species_id  =='AUS'].label.tolist()+ output_negative_test.loc[output_positive_test.species_id  =='AUS'].label.tolist()\n",
    "y_predicted_probability_test = output_positive_test.loc[output_positive_test.species_id  =='AUS'].predicted_probability.tolist() + output_negative_test.loc[output_positive_test.species_id  =='AUS'].predicted_probability.tolist()\n",
    "AUC = roc_auc_score(y_true_test, y_predicted_probability_test) \n",
    "print('AUC: %.4f' % AUC)\n",
    "print('Accuracy: %.4f' % accuracy)\n",
    "print('Precision: %.4f' % precision)\n",
    "print('Recall: %.4f' % recall)\n",
    "\n",
    "fpr, tpr, thresholds = roc_curve(y_true_test, y_predicted_probability_test)\n",
    "plt.plot(fpr, tpr, marker='.')\n",
    "plt.xlabel('False Positive Rate')\n",
    "plt.ylabel('True Positive Rate')\n",
    "plt.legend()\n",
    "plt.show()\n",
    "\n",
    "precision, recall, thresholds = precision_recall_curve(y_true_test, y_predicted_probability_test)\n",
    "precision_recall_auc = auc(recall, precision)\n",
    "print('Precesion Recall AUC: %.4f' % precision_recall_auc)\n",
    "\n",
    "plt.plot(recall, precision, marker='.')\n",
    "plt.xlabel('Recall')\n",
    "plt.ylabel('Precision')\n",
    "plt.legend()\n",
    "plt.show()"
   ]
  },
  {
   "cell_type": "markdown",
   "metadata": {},
   "source": [
    "Evaluation for MAD"
   ]
  },
  {
   "cell_type": "code",
   "execution_count": 26,
   "metadata": {},
   "outputs": [
    {
     "data": {
      "text/plain": [
       "Text(0.5, 1.0, 'Predicted Probability - Without MAD Calls')"
      ]
     },
     "execution_count": 26,
     "metadata": {},
     "output_type": "execute_result"
    },
    {
     "data": {
      "image/png": "[encoded data removed]",
      "text/plain": [
       "<Figure size 720x288 with 2 Axes>"
      ]
     },
     "metadata": {
      "needs_background": "light"
     },
     "output_type": "display_data"
    }
   ],
   "source": [
    "fig, ax = plt.subplots(nrows=1, ncols=2, figsize = (10, 4))\n",
    "ax = ax.ravel() \n",
    "\n",
    "ax[0].hist(output_positive_test.loc[output_positive_test.species_id =='MAD'].predicted_probability)\n",
    "ax[0].set_title('Predicted Probability - With MAD Calls')\n",
    "\n",
    "ax[1].hist(output_negative_test.loc[output_positive_test.species_id  =='MAD'].predicted_probability)\n",
    "ax[1].set_title('Predicted Probability - Without MAD Calls')\n"
   ]
  },
  {
   "cell_type": "code",
   "execution_count": 27,
   "metadata": {},
   "outputs": [
    {
     "name": "stderr",
     "output_type": "stream",
     "text": [
      "No handles with labels found to put in legend.\n"
     ]
    },
    {
     "name": "stdout",
     "output_type": "stream",
     "text": [
      "False Negative Rate: 9.51%\n",
      "False Positive Rate: 9.02%\n",
      "AUC: 0.9638\n",
      "Accuracy: 0.9073\n",
      "Precision: 0.9143\n",
      "Recall: 0.9049\n"
     ]
    },
    {
     "data": {
      "image/png": "[encoded data removed]",
      "text/plain": [
       "<Figure size 432x288 with 1 Axes>"
      ]
     },
     "metadata": {
      "needs_background": "light"
     },
     "output_type": "display_data"
    },
    {
     "name": "stderr",
     "output_type": "stream",
     "text": [
      "No handles with labels found to put in legend.\n"
     ]
    },
    {
     "name": "stdout",
     "output_type": "stream",
     "text": [
      "Precesion Recall AUC: 0.9671\n"
     ]
    },
    {
     "data": {
      "image/png": "[encoded data removed]",
      "text/plain": [
       "<Figure size 432x288 with 1 Axes>"
      ]
     },
     "metadata": {
      "needs_background": "light"
     },
     "output_type": "display_data"
    }
   ],
   "source": [
    "tp = len([i for i,v in enumerate(output_positive_test.loc[output_positive_test.species_id  =='MAD'].predicted_probability) if v >= 0.5])\n",
    "fn = len([i for i,v in enumerate(output_positive_test.loc[output_positive_test.species_id  =='MAD'].predicted_probability) if v < 0.5])\n",
    "tn = len([i for i,v in enumerate(output_negative_test.loc[output_positive_test.species_id  =='MAD'].predicted_probability) if v < 0.5])\n",
    "fp = len([i for i,v in enumerate(output_negative_test.loc[output_positive_test.species_id  =='MAD'].predicted_probability) if v >= 0.5])\n",
    "false_negative_rate = fn / (tp + fn)\n",
    "false_positive_rate = fp / (tn + fp)\n",
    "precision = tp / (tp + fp)\n",
    "recall = tp / (tp + fn)\n",
    "accuracy = (tp + tn) / (tp + fp + tn + fn)\n",
    "\n",
    "print('False Negative Rate:', '{:.2%}'.format(false_negative_rate))\n",
    "print('False Positive Rate:', '{:.2%}'.format(false_positive_rate))\n",
    "\n",
    "y_true_test = output_positive_test.loc[output_positive_test.species_id  =='MAD'].label.tolist()+ output_negative_test.loc[output_positive_test.species_id  =='MAD'].label.tolist()\n",
    "y_predicted_probability_test = output_positive_test.loc[output_positive_test.species_id  =='MAD'].predicted_probability.tolist() + output_negative_test.loc[output_positive_test.species_id  =='MAD'].predicted_probability.tolist()\n",
    "AUC = roc_auc_score(y_true_test, y_predicted_probability_test) \n",
    "print('AUC: %.4f' % AUC)\n",
    "print('Accuracy: %.4f' % accuracy)\n",
    "print('Precision: %.4f' % precision)\n",
    "print('Recall: %.4f' % recall)\n",
    "\n",
    "fpr, tpr, thresholds = roc_curve(y_true_test, y_predicted_probability_test)\n",
    "plt.plot(fpr, tpr, marker='.')\n",
    "plt.xlabel('False Positive Rate')\n",
    "plt.ylabel('True Positive Rate')\n",
    "plt.legend()\n",
    "plt.show()\n",
    "\n",
    "precision, recall, thresholds = precision_recall_curve(y_true_test, y_predicted_probability_test)\n",
    "precision_recall_auc = auc(recall, precision)\n",
    "print('Precesion Recall AUC: %.4f' % precision_recall_auc)\n",
    "\n",
    "plt.plot(recall, precision, marker='.')\n",
    "plt.xlabel('Recall')\n",
    "plt.ylabel('Precision')\n",
    "plt.legend()\n",
    "plt.show()"
   ]
  },
  {
   "cell_type": "markdown",
   "metadata": {},
   "source": [
    "Evaluation for SRI"
   ]
  },
  {
   "cell_type": "code",
   "execution_count": 28,
   "metadata": {},
   "outputs": [
    {
     "data": {
      "text/plain": [
       "Text(0.5, 1.0, 'Predicted Probability - Without SRI Calls')"
      ]
     },
     "execution_count": 28,
     "metadata": {},
     "output_type": "execute_result"
    },
    {
     "data": {
      "image/png": "[encoded data removed]",
      "text/plain": [
       "<Figure size 720x288 with 2 Axes>"
      ]
     },
     "metadata": {
      "needs_background": "light"
     },
     "output_type": "display_data"
    }
   ],
   "source": [
    "fig, ax = plt.subplots(nrows=1, ncols=2, figsize = (10, 4))\n",
    "ax = ax.ravel() \n",
    "\n",
    "ax[0].hist(output_positive_test.loc[output_positive_test.species_id =='SRI'].predicted_probability)\n",
    "ax[0].set_title('Predicted Probability - With SRI Calls')\n",
    "\n",
    "ax[1].hist(output_negative_test.loc[output_positive_test.species_id  =='SRI'].predicted_probability)\n",
    "ax[1].set_title('Predicted Probability - Without SRI Calls')\n"
   ]
  },
  {
   "cell_type": "code",
   "execution_count": 29,
   "metadata": {},
   "outputs": [
    {
     "name": "stderr",
     "output_type": "stream",
     "text": [
      "No handles with labels found to put in legend.\n"
     ]
    },
    {
     "name": "stdout",
     "output_type": "stream",
     "text": [
      "False Negative Rate: 22.06%\n",
      "False Positive Rate: 10.11%\n",
      "AUC: 0.9358\n",
      "Accuracy: 0.8367\n",
      "Precision: 0.8933\n",
      "Recall: 0.7794\n"
     ]
    },
    {
     "data": {
      "image/png": "[encoded data removed]",
      "text/plain": [
       "<Figure size 432x288 with 1 Axes>"
      ]
     },
     "metadata": {
      "needs_background": "light"
     },
     "output_type": "display_data"
    },
    {
     "name": "stderr",
     "output_type": "stream",
     "text": [
      "No handles with labels found to put in legend.\n"
     ]
    },
    {
     "name": "stdout",
     "output_type": "stream",
     "text": [
      "Precesion Recall AUC: 0.9489\n"
     ]
    },
    {
     "data": {
      "image/png": "[encoded data removed]",
      "text/plain": [
       "<Figure size 432x288 with 1 Axes>"
      ]
     },
     "metadata": {
      "needs_background": "light"
     },
     "output_type": "display_data"
    }
   ],
   "source": [
    "tp = len([i for i,v in enumerate(output_positive_test.loc[output_positive_test.species_id  =='SRI'].predicted_probability) if v >= 0.5])\n",
    "fn = len([i for i,v in enumerate(output_positive_test.loc[output_positive_test.species_id  =='SRI'].predicted_probability) if v < 0.5])\n",
    "tn = len([i for i,v in enumerate(output_negative_test.loc[output_positive_test.species_id  =='SRI'].predicted_probability) if v < 0.5])\n",
    "fp = len([i for i,v in enumerate(output_negative_test.loc[output_positive_test.species_id  =='SRI'].predicted_probability) if v >= 0.5])\n",
    "false_negative_rate = fn / (tp + fn)\n",
    "false_positive_rate = fp / (tn + fp)\n",
    "precision = tp / (tp + fp)\n",
    "recall = tp / (tp + fn)\n",
    "accuracy = (tp + tn) / (tp + fp + tn + fn)\n",
    "\n",
    "print('False Negative Rate:', '{:.2%}'.format(false_negative_rate))\n",
    "print('False Positive Rate:', '{:.2%}'.format(false_positive_rate))\n",
    "\n",
    "y_true_test = output_positive_test.loc[output_positive_test.species_id  =='SRI'].label.tolist()+ output_negative_test.loc[output_positive_test.species_id  =='SRI'].label.tolist()\n",
    "y_predicted_probability_test = output_positive_test.loc[output_positive_test.species_id  =='SRI'].predicted_probability.tolist() + output_negative_test.loc[output_positive_test.species_id  =='SRI'].predicted_probability.tolist()\n",
    "AUC = roc_auc_score(y_true_test, y_predicted_probability_test) \n",
    "print('AUC: %.4f' % AUC)\n",
    "print('Accuracy: %.4f' % accuracy)\n",
    "print('Precision: %.4f' % precision)\n",
    "print('Recall: %.4f' % recall)\n",
    "\n",
    "fpr, tpr, thresholds = roc_curve(y_true_test, y_predicted_probability_test)\n",
    "plt.plot(fpr, tpr, marker='.')\n",
    "plt.xlabel('False Positive Rate')\n",
    "plt.ylabel('True Positive Rate')\n",
    "plt.legend()\n",
    "plt.show()\n",
    "\n",
    "precision, recall, thresholds = precision_recall_curve(y_true_test, y_predicted_probability_test)\n",
    "precision_recall_auc = auc(recall, precision)\n",
    "print('Precesion Recall AUC: %.4f' % precision_recall_auc)\n",
    "\n",
    "plt.plot(recall, precision, marker='.')\n",
    "plt.xlabel('Recall')\n",
    "plt.ylabel('Precision')\n",
    "plt.legend()\n",
    "plt.show()"
   ]
  },
  {
   "cell_type": "code",
   "execution_count": 32,
   "metadata": {},
   "outputs": [],
   "source": [
    "output_positive_test_all_species = pd.DataFrame()\n",
    "output_positive_test_all_species['filename'] = directory_filenames_Positive_test\n",
    "for i in range(len(output_positive_test_all_species)):\n",
    "    species_id = output_positive_test_all_species.loc[i, 'filename'].split('\\\\')[-1].split('_')[0]\n",
    "    output_positive_test_all_species.at[i, 'species_id'] = species_id\n",
    "output_positive_test_all_species['ANT_prob'] = yhat_Positive_test_probs_ANT\n",
    "output_positive_test_all_species['AUS_prob'] = yhat_Positive_test_probs_AUS\n",
    "output_positive_test_all_species['MAD_prob'] = yhat_Positive_test_probs_MAD\n",
    "output_positive_test_all_species['SRI_prob'] = yhat_Positive_test_probs_SRI\n"
   ]
  },
  {
   "cell_type": "code",
   "execution_count": 33,
   "metadata": {},
   "outputs": [],
   "source": [
    "yhat_probs_Positive_test = model.predict(X_test_Positive)"
   ]
  },
  {
   "cell_type": "code",
   "execution_count": 34,
   "metadata": {},
   "outputs": [],
   "source": [
    "pred_positive_test = pd.DataFrame()\n",
    "pred_positive_test['spectrogram_filename'] = directory_filenames_Positive_test\n",
    "pred_positive_test['true_species_id'] = ''\n",
    "pred_positive_test['pred_species_id'] = ''\n",
    "for i in range(len(pred_positive_test)):\n",
    "    species_id_positive_index = list(y_test_Positive[i]).index(1)\n",
    "    pred_positive_test.at[i, 'true_species_id'] = list(species_id_class_dict.keys())[list(species_id_class_dict.values()).index(species_id_positive_index)]\n",
    "    pred_species_id_index = list(yhat_probs_Positive_test[i]).index(max(yhat_probs_Positive_test[i]))\n",
    "    if max(yhat_probs_Positive_test[i]) >= 0.5:\n",
    "        pred_positive_test.at[i, 'pred_species_id'] = list(species_id_class_dict.keys())[list(species_id_class_dict.values()).index(pred_species_id_index)]\n",
    "    else:\n",
    "        pred_positive_test.at[i, 'pred_species_id'] = 'Negative'\n",
    "        "
   ]
  },
  {
   "cell_type": "code",
   "execution_count": 35,
   "metadata": {},
   "outputs": [
    {
     "name": "stdout",
     "output_type": "stream",
     "text": [
      "Predicted  ANT  AUS  MAD  Negative  SRI\n",
      "Actual                                 \n",
      "ANT        421    0    0        47    0\n",
      "AUS          0  398    2        33    1\n",
      "MAD          0    0  704        73    1\n",
      "SRI          0    7    0        38  159\n"
     ]
    }
   ],
   "source": [
    "confusion_matrix = pd.crosstab(pred_positive_test['true_species_id'], pred_positive_test['pred_species_id'], rownames=['Actual'], colnames=['Predicted'])\n",
    "print (confusion_matrix)"
   ]
  },
  {
   "cell_type": "code",
   "execution_count": null,
   "metadata": {},
   "outputs": [],
   "source": []
  }
 ],
 "metadata": {
  "kernelspec": {
   "display_name": "Python 3 (ipykernel)",
   "language": "python",
   "name": "python3"
  },
  "language_info": {
   "codemirror_mode": {
    "name": "ipython",
    "version": 3
   },
   "file_extension": ".py",
   "mimetype": "text/x-python",
   "name": "python",
   "nbconvert_exporter": "python",
   "pygments_lexer": "ipython3",
   "version": "3.8.12"
  }
 },
 "nbformat": 4,
 "nbformat_minor": 4
}
